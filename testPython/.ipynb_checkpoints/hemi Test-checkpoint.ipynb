{
 "cells": [
  {
   "cell_type": "code",
   "execution_count": 2,
   "metadata": {},
   "outputs": [],
   "source": [
    "import requests\n",
    "import pymongo\n",
    "from splinter import Browser\n",
    "from bs4 import BeautifulSoup\n",
    "import pandas as pd"
   ]
  },
  {
   "cell_type": "code",
   "execution_count": 3,
   "metadata": {},
   "outputs": [],
   "source": [
    "executable_path = {'executable_path': 'chromedriver.exe'}\n",
    "browser = Browser('chrome', **executable_path, headless=False)"
   ]
  },
  {
   "cell_type": "code",
   "execution_count": 4,
   "metadata": {},
   "outputs": [
    {
     "name": "stderr",
     "output_type": "stream",
     "text": [
      "C:\\Users\\joshc\\Anaconda3\\envs\\PythonData\\lib\\site-packages\\splinter\\driver\\webdriver\\__init__.py:528: FutureWarning: browser.find_link_by_partial_text is deprecated. Use browser.links.find_by_partial_text instead.\n",
      "  FutureWarning,\n"
     ]
    },
    {
     "name": "stdout",
     "output_type": "stream",
     "text": [
      "Scraping Complete\n"
     ]
    }
   ],
   "source": [
    "url_jpl = 'https://en.wikipedia.org/wiki/Chrysler_Hemi_engine'\n",
    "browser.visit(url_jpl)\n",
    "\n",
    "try:\n",
    "    browser.click_link_by_partial_text('FULL IMAGE')\n",
    "          \n",
    "except:\n",
    "    print(\"Scraping Complete\")\n",
    "    \n",
    "\n",
    "newHtml = browser.html\n",
    "soup = BeautifulSoup(newHtml, 'html.parser')"
   ]
  },
  {
   "cell_type": "code",
   "execution_count": 5,
   "metadata": {},
   "outputs": [
    {
     "data": {
      "text/plain": [
       "[<img alt=\"\" data-file-height=\"40\" data-file-width=\"40\" decoding=\"async\" height=\"40\" src=\"//upload.wikimedia.org/wikipedia/en/thumb/b/b4/Ambox_important.svg/40px-Ambox_important.svg.png\" srcset=\"//upload.wikimedia.org/wikipedia/en/thumb/b/b4/Ambox_important.svg/60px-Ambox_important.svg.png 1.5x, //upload.wikimedia.org/wikipedia/en/thumb/b/b4/Ambox_important.svg/80px-Ambox_important.svg.png 2x\" width=\"40\"/>,\n",
       " <img alt=\"\" data-file-height=\"399\" data-file-width=\"512\" decoding=\"async\" height=\"39\" src=\"//upload.wikimedia.org/wikipedia/en/thumb/9/99/Question_book-new.svg/50px-Question_book-new.svg.png\" srcset=\"//upload.wikimedia.org/wikipedia/en/thumb/9/99/Question_book-new.svg/75px-Question_book-new.svg.png 1.5x, //upload.wikimedia.org/wikipedia/en/thumb/9/99/Question_book-new.svg/100px-Question_book-new.svg.png 2x\" width=\"50\"/>,\n",
       " <img alt=\"\" data-file-height=\"40\" data-file-width=\"40\" decoding=\"async\" height=\"40\" src=\"//upload.wikimedia.org/wikipedia/en/thumb/b/b4/Ambox_important.svg/40px-Ambox_important.svg.png\" srcset=\"//upload.wikimedia.org/wikipedia/en/thumb/b/b4/Ambox_important.svg/60px-Ambox_important.svg.png 1.5x, //upload.wikimedia.org/wikipedia/en/thumb/b/b4/Ambox_important.svg/80px-Ambox_important.svg.png 2x\" width=\"40\"/>,\n",
       " <img alt=\"\" class=\"thumbimage\" data-file-height=\"302\" data-file-width=\"500\" decoding=\"async\" height=\"181\" src=\"//upload.wikimedia.org/wikipedia/commons/thumb/8/84/Hemi_in_300C.jpg/300px-Hemi_in_300C.jpg\" srcset=\"//upload.wikimedia.org/wikipedia/commons/thumb/8/84/Hemi_in_300C.jpg/450px-Hemi_in_300C.jpg 1.5x, //upload.wikimedia.org/wikipedia/commons/8/84/Hemi_in_300C.jpg 2x\" width=\"300\"/>,\n",
       " <img alt=\"\" class=\"thumbimage\" data-file-height=\"2000\" data-file-width=\"3008\" decoding=\"async\" height=\"146\" src=\"//upload.wikimedia.org/wikipedia/commons/thumb/9/9c/Marine_Hemi.JPG/220px-Marine_Hemi.JPG\" srcset=\"//upload.wikimedia.org/wikipedia/commons/thumb/9/9c/Marine_Hemi.JPG/330px-Marine_Hemi.JPG 1.5x, //upload.wikimedia.org/wikipedia/commons/thumb/9/9c/Marine_Hemi.JPG/440px-Marine_Hemi.JPG 2x\" width=\"220\"/>,\n",
       " <img alt=\"\" data-file-height=\"399\" data-file-width=\"512\" decoding=\"async\" height=\"39\" src=\"//upload.wikimedia.org/wikipedia/en/thumb/9/99/Question_book-new.svg/50px-Question_book-new.svg.png\" srcset=\"//upload.wikimedia.org/wikipedia/en/thumb/9/99/Question_book-new.svg/75px-Question_book-new.svg.png 1.5x, //upload.wikimedia.org/wikipedia/en/thumb/9/99/Question_book-new.svg/100px-Question_book-new.svg.png 2x\" width=\"50\"/>,\n",
       " <img alt=\"\" class=\"thumbimage\" data-file-height=\"541\" data-file-width=\"694\" decoding=\"async\" height=\"171\" src=\"//upload.wikimedia.org/wikipedia/commons/thumb/0/0d/FiredomeV8%2C1952.jpg/220px-FiredomeV8%2C1952.jpg\" srcset=\"//upload.wikimedia.org/wikipedia/commons/thumb/0/0d/FiredomeV8%2C1952.jpg/330px-FiredomeV8%2C1952.jpg 1.5x, //upload.wikimedia.org/wikipedia/commons/thumb/0/0d/FiredomeV8%2C1952.jpg/440px-FiredomeV8%2C1952.jpg 2x\" width=\"220\"/>,\n",
       " <img alt=\"\" data-file-height=\"40\" data-file-width=\"40\" decoding=\"async\" height=\"40\" src=\"//upload.wikimedia.org/wikipedia/en/thumb/b/b4/Ambox_important.svg/40px-Ambox_important.svg.png\" srcset=\"//upload.wikimedia.org/wikipedia/en/thumb/b/b4/Ambox_important.svg/60px-Ambox_important.svg.png 1.5x, //upload.wikimedia.org/wikipedia/en/thumb/b/b4/Ambox_important.svg/80px-Ambox_important.svg.png 2x\" width=\"40\"/>,\n",
       " <img alt=\"\" data-file-height=\"399\" data-file-width=\"512\" decoding=\"async\" height=\"39\" src=\"//upload.wikimedia.org/wikipedia/en/thumb/9/99/Question_book-new.svg/50px-Question_book-new.svg.png\" srcset=\"//upload.wikimedia.org/wikipedia/en/thumb/9/99/Question_book-new.svg/75px-Question_book-new.svg.png 1.5x, //upload.wikimedia.org/wikipedia/en/thumb/9/99/Question_book-new.svg/100px-Question_book-new.svg.png 2x\" width=\"50\"/>,\n",
       " <img alt=\"\" data-file-height=\"40\" data-file-width=\"40\" decoding=\"async\" height=\"40\" src=\"//upload.wikimedia.org/wikipedia/en/thumb/b/b4/Ambox_important.svg/40px-Ambox_important.svg.png\" srcset=\"//upload.wikimedia.org/wikipedia/en/thumb/b/b4/Ambox_important.svg/60px-Ambox_important.svg.png 1.5x, //upload.wikimedia.org/wikipedia/en/thumb/b/b4/Ambox_important.svg/80px-Ambox_important.svg.png 2x\" width=\"40\"/>,\n",
       " <img alt=\"1971 Plymouth Hemi 'Cuda engine.jpg\" data-file-height=\"960\" data-file-width=\"1280\" decoding=\"async\" height=\"210\" src=\"//upload.wikimedia.org/wikipedia/commons/thumb/0/05/1971_Plymouth_Hemi_%27Cuda_engine.jpg/280px-1971_Plymouth_Hemi_%27Cuda_engine.jpg\" srcset=\"//upload.wikimedia.org/wikipedia/commons/thumb/0/05/1971_Plymouth_Hemi_%27Cuda_engine.jpg/420px-1971_Plymouth_Hemi_%27Cuda_engine.jpg 1.5x, //upload.wikimedia.org/wikipedia/commons/thumb/0/05/1971_Plymouth_Hemi_%27Cuda_engine.jpg/560px-1971_Plymouth_Hemi_%27Cuda_engine.jpg 2x\" width=\"280\"/>,\n",
       " <img alt=\"\" data-file-height=\"40\" data-file-width=\"40\" decoding=\"async\" height=\"40\" src=\"//upload.wikimedia.org/wikipedia/en/thumb/b/b4/Ambox_important.svg/40px-Ambox_important.svg.png\" srcset=\"//upload.wikimedia.org/wikipedia/en/thumb/b/b4/Ambox_important.svg/60px-Ambox_important.svg.png 1.5x, //upload.wikimedia.org/wikipedia/en/thumb/b/b4/Ambox_important.svg/80px-Ambox_important.svg.png 2x\" width=\"40\"/>,\n",
       " <img alt=\"\" data-file-height=\"399\" data-file-width=\"512\" decoding=\"async\" height=\"39\" src=\"//upload.wikimedia.org/wikipedia/en/thumb/9/99/Question_book-new.svg/50px-Question_book-new.svg.png\" srcset=\"//upload.wikimedia.org/wikipedia/en/thumb/9/99/Question_book-new.svg/75px-Question_book-new.svg.png 1.5x, //upload.wikimedia.org/wikipedia/en/thumb/9/99/Question_book-new.svg/100px-Question_book-new.svg.png 2x\" width=\"50\"/>,\n",
       " <img alt=\"\" data-file-height=\"40\" data-file-width=\"40\" decoding=\"async\" height=\"40\" src=\"//upload.wikimedia.org/wikipedia/en/thumb/b/b4/Ambox_important.svg/40px-Ambox_important.svg.png\" srcset=\"//upload.wikimedia.org/wikipedia/en/thumb/b/b4/Ambox_important.svg/60px-Ambox_important.svg.png 1.5x, //upload.wikimedia.org/wikipedia/en/thumb/b/b4/Ambox_important.svg/80px-Ambox_important.svg.png 2x\" width=\"40\"/>,\n",
       " <img alt=\"2003 5.7 HEMI Magnum Engine (31404717380).jpg\" data-file-height=\"4000\" data-file-width=\"6000\" decoding=\"async\" height=\"187\" src=\"//upload.wikimedia.org/wikipedia/commons/thumb/a/ae/2003_5.7_HEMI_Magnum_Engine_%2831404717380%29.jpg/280px-2003_5.7_HEMI_Magnum_Engine_%2831404717380%29.jpg\" srcset=\"//upload.wikimedia.org/wikipedia/commons/thumb/a/ae/2003_5.7_HEMI_Magnum_Engine_%2831404717380%29.jpg/420px-2003_5.7_HEMI_Magnum_Engine_%2831404717380%29.jpg 1.5x, //upload.wikimedia.org/wikipedia/commons/thumb/a/ae/2003_5.7_HEMI_Magnum_Engine_%2831404717380%29.jpg/560px-2003_5.7_HEMI_Magnum_Engine_%2831404717380%29.jpg 2x\" width=\"280\"/>,\n",
       " <img alt=\"\" class=\"thumbimage\" data-file-height=\"374\" data-file-width=\"500\" decoding=\"async\" height=\"165\" src=\"//upload.wikimedia.org/wikipedia/commons/thumb/4/40/5_7hemi.jpg/220px-5_7hemi.jpg\" srcset=\"//upload.wikimedia.org/wikipedia/commons/thumb/4/40/5_7hemi.jpg/330px-5_7hemi.jpg 1.5x, //upload.wikimedia.org/wikipedia/commons/thumb/4/40/5_7hemi.jpg/440px-5_7hemi.jpg 2x\" width=\"220\"/>,\n",
       " <img alt=\"\" class=\"thumbimage\" data-file-height=\"374\" data-file-width=\"500\" decoding=\"async\" height=\"165\" src=\"//upload.wikimedia.org/wikipedia/commons/thumb/b/bd/6_1hemi.jpg/220px-6_1hemi.jpg\" srcset=\"//upload.wikimedia.org/wikipedia/commons/thumb/b/bd/6_1hemi.jpg/330px-6_1hemi.jpg 1.5x, //upload.wikimedia.org/wikipedia/commons/thumb/b/bd/6_1hemi.jpg/440px-6_1hemi.jpg 2x\" width=\"220\"/>,\n",
       " <img alt=\"\" class=\"thumbimage\" data-file-height=\"600\" data-file-width=\"800\" decoding=\"async\" height=\"165\" src=\"//upload.wikimedia.org/wikipedia/commons/thumb/f/f2/Dodge_Challenger_SRT-8_%282011%29_-_6.4L_392_Hemi_V8_Engine_-_3.jpg/220px-Dodge_Challenger_SRT-8_%282011%29_-_6.4L_392_Hemi_V8_Engine_-_3.jpg\" srcset=\"//upload.wikimedia.org/wikipedia/commons/thumb/f/f2/Dodge_Challenger_SRT-8_%282011%29_-_6.4L_392_Hemi_V8_Engine_-_3.jpg/330px-Dodge_Challenger_SRT-8_%282011%29_-_6.4L_392_Hemi_V8_Engine_-_3.jpg 1.5x, //upload.wikimedia.org/wikipedia/commons/thumb/f/f2/Dodge_Challenger_SRT-8_%282011%29_-_6.4L_392_Hemi_V8_Engine_-_3.jpg/440px-Dodge_Challenger_SRT-8_%282011%29_-_6.4L_392_Hemi_V8_Engine_-_3.jpg 2x\" width=\"220\"/>,\n",
       " <img alt=\"\" class=\"thumbimage\" data-file-height=\"724\" data-file-width=\"1780\" decoding=\"async\" height=\"89\" src=\"//upload.wikimedia.org/wikipedia/commons/thumb/8/80/392_HEMI_badge_crop.jpg/220px-392_HEMI_badge_crop.jpg\" srcset=\"//upload.wikimedia.org/wikipedia/commons/thumb/8/80/392_HEMI_badge_crop.jpg/330px-392_HEMI_badge_crop.jpg 1.5x, //upload.wikimedia.org/wikipedia/commons/thumb/8/80/392_HEMI_badge_crop.jpg/440px-392_HEMI_badge_crop.jpg 2x\" width=\"220\"/>,\n",
       " <img alt=\"\" class=\"thumbimage\" data-file-height=\"2304\" data-file-width=\"3072\" decoding=\"async\" height=\"165\" src=\"//upload.wikimedia.org/wikipedia/commons/thumb/9/99/426_HEMI_in_a_2013_Dodge_Charger.jpg/220px-426_HEMI_in_a_2013_Dodge_Charger.jpg\" srcset=\"//upload.wikimedia.org/wikipedia/commons/thumb/9/99/426_HEMI_in_a_2013_Dodge_Charger.jpg/330px-426_HEMI_in_a_2013_Dodge_Charger.jpg 1.5x, //upload.wikimedia.org/wikipedia/commons/thumb/9/99/426_HEMI_in_a_2013_Dodge_Charger.jpg/440px-426_HEMI_in_a_2013_Dodge_Charger.jpg 2x\" width=\"220\"/>,\n",
       " <img alt=\"\" class=\"noviewer\" data-file-height=\"1376\" data-file-width=\"1024\" decoding=\"async\" height=\"40\" src=\"//upload.wikimedia.org/wikipedia/en/thumb/4/4a/Commons-logo.svg/30px-Commons-logo.svg.png\" srcset=\"//upload.wikimedia.org/wikipedia/en/thumb/4/4a/Commons-logo.svg/45px-Commons-logo.svg.png 1.5x, //upload.wikimedia.org/wikipedia/en/thumb/4/4a/Commons-logo.svg/59px-Commons-logo.svg.png 2x\" width=\"30\"/>,\n",
       " <img alt=\"Wikimedia Foundation\" height=\"31\" loading=\"lazy\" src=\"/static/images/wikimedia-button.png\" srcset=\"/static/images/wikimedia-button-1.5x.png 1.5x, /static/images/wikimedia-button-2x.png 2x\" width=\"88\"/>,\n",
       " <img alt=\"Powered by MediaWiki\" height=\"31\" src=\"/static/images/poweredby_mediawiki_88x31.png\" srcset=\"/static/images/poweredby_mediawiki_132x47.png 1.5x, /static/images/poweredby_mediawiki_176x62.png 2x\" width=\"88\"/>]"
      ]
     },
     "execution_count": 5,
     "metadata": {},
     "output_type": "execute_result"
    }
   ],
   "source": [
    "images = soup.findAll('img')\n",
    "images"
   ]
  },
  {
   "cell_type": "code",
   "execution_count": 7,
   "metadata": {},
   "outputs": [
    {
     "data": {
      "text/plain": [
       "['//upload.wikimedia.org/wikipedia/en/thumb/b/b4/Ambox_important.svg/40px-Ambox_important.svg.png',\n",
       " '//upload.wikimedia.org/wikipedia/en/thumb/9/99/Question_book-new.svg/50px-Question_book-new.svg.png',\n",
       " '//upload.wikimedia.org/wikipedia/en/thumb/b/b4/Ambox_important.svg/40px-Ambox_important.svg.png',\n",
       " '//upload.wikimedia.org/wikipedia/commons/thumb/8/84/Hemi_in_300C.jpg/300px-Hemi_in_300C.jpg',\n",
       " '//upload.wikimedia.org/wikipedia/commons/thumb/9/9c/Marine_Hemi.JPG/220px-Marine_Hemi.JPG',\n",
       " '//upload.wikimedia.org/wikipedia/en/thumb/9/99/Question_book-new.svg/50px-Question_book-new.svg.png',\n",
       " '//upload.wikimedia.org/wikipedia/commons/thumb/0/0d/FiredomeV8%2C1952.jpg/220px-FiredomeV8%2C1952.jpg',\n",
       " '//upload.wikimedia.org/wikipedia/en/thumb/b/b4/Ambox_important.svg/40px-Ambox_important.svg.png',\n",
       " '//upload.wikimedia.org/wikipedia/en/thumb/9/99/Question_book-new.svg/50px-Question_book-new.svg.png',\n",
       " '//upload.wikimedia.org/wikipedia/en/thumb/b/b4/Ambox_important.svg/40px-Ambox_important.svg.png',\n",
       " '//upload.wikimedia.org/wikipedia/commons/thumb/0/05/1971_Plymouth_Hemi_%27Cuda_engine.jpg/280px-1971_Plymouth_Hemi_%27Cuda_engine.jpg',\n",
       " '//upload.wikimedia.org/wikipedia/en/thumb/b/b4/Ambox_important.svg/40px-Ambox_important.svg.png',\n",
       " '//upload.wikimedia.org/wikipedia/en/thumb/9/99/Question_book-new.svg/50px-Question_book-new.svg.png',\n",
       " '//upload.wikimedia.org/wikipedia/en/thumb/b/b4/Ambox_important.svg/40px-Ambox_important.svg.png',\n",
       " '//upload.wikimedia.org/wikipedia/commons/thumb/a/ae/2003_5.7_HEMI_Magnum_Engine_%2831404717380%29.jpg/280px-2003_5.7_HEMI_Magnum_Engine_%2831404717380%29.jpg',\n",
       " '//upload.wikimedia.org/wikipedia/commons/thumb/4/40/5_7hemi.jpg/220px-5_7hemi.jpg',\n",
       " '//upload.wikimedia.org/wikipedia/commons/thumb/b/bd/6_1hemi.jpg/220px-6_1hemi.jpg',\n",
       " '//upload.wikimedia.org/wikipedia/commons/thumb/f/f2/Dodge_Challenger_SRT-8_%282011%29_-_6.4L_392_Hemi_V8_Engine_-_3.jpg/220px-Dodge_Challenger_SRT-8_%282011%29_-_6.4L_392_Hemi_V8_Engine_-_3.jpg',\n",
       " '//upload.wikimedia.org/wikipedia/commons/thumb/8/80/392_HEMI_badge_crop.jpg/220px-392_HEMI_badge_crop.jpg',\n",
       " '//upload.wikimedia.org/wikipedia/commons/thumb/9/99/426_HEMI_in_a_2013_Dodge_Charger.jpg/220px-426_HEMI_in_a_2013_Dodge_Charger.jpg',\n",
       " '//upload.wikimedia.org/wikipedia/en/thumb/4/4a/Commons-logo.svg/30px-Commons-logo.svg.png',\n",
       " '/static/images/wikimedia-button.png',\n",
       " '/static/images/poweredby_mediawiki_88x31.png']"
      ]
     },
     "execution_count": 7,
     "metadata": {},
     "output_type": "execute_result"
    }
   ],
   "source": [
    "extImgList = []\n",
    "count =0\n",
    "for image in images:\n",
    "    extractImage = images[count]\n",
    "    extractImageSrc = extractImage['src']\n",
    "    extImgList.append(extractImageSrc)\n",
    "    count = count +1\n",
    "extImgList"
   ]
  },
  {
   "cell_type": "code",
   "execution_count": 10,
   "metadata": {},
   "outputs": [
    {
     "name": "stdout",
     "output_type": "stream",
     "text": [
      "//upload.wikimedia.org/wikipedia/commons/thumb/4/40/5_7hemi.jpg/220px-5_7hemi.jpg\n",
      "/static/images/poweredby_mediawiki_88x31.png\n",
      "/static/images/poweredby_mediawiki_88x31.png\n",
      "/static/images/poweredby_mediawiki_88x31.png\n"
     ]
    }
   ],
   "source": [
    "# extractImage0 = images[15]\n",
    "extractImageSrc0 = extImgList[15]\n",
    "extractImageSrc1 = extImgList[3]\n",
    "extractImageSrc2 = extImgList[16]\n",
    "extractImageSrc3 = extImgList[6]\n",
    "\n",
    "print(extractImageSrc0)\n",
    "print(extractImageSrc1)\n",
    "print(extractImageSrc2)\n",
    "print(extractImageSrc3)\n"
   ]
  },
  {
   "cell_type": "code",
   "execution_count": null,
   "metadata": {},
   "outputs": [],
   "source": []
  },
  {
   "cell_type": "code",
   "execution_count": null,
   "metadata": {},
   "outputs": [],
   "source": []
  },
  {
   "cell_type": "code",
   "execution_count": null,
   "metadata": {},
   "outputs": [],
   "source": [
    "executable_path = {'executable_path': 'chromedriver.exe'}\n",
    "browser = Browser('chrome', **executable_path, headless=False)"
   ]
  },
  {
   "cell_type": "code",
   "execution_count": 3,
   "metadata": {},
   "outputs": [],
   "source": [
    "url_jpl = 'https://astrogeology.usgs.gov/search/results?q=hemisphere+enhanced&k1=target&v1=Mars'\n",
    "browser.visit(url_jpl)"
   ]
  },
  {
   "cell_type": "code",
   "execution_count": null,
   "metadata": {},
   "outputs": [],
   "source": []
  },
  {
   "cell_type": "code",
   "execution_count": 5,
   "metadata": {},
   "outputs": [
    {
     "name": "stderr",
     "output_type": "stream",
     "text": [
      "C:\\Users\\joshc\\Anaconda3\\envs\\PythonData\\lib\\site-packages\\splinter\\driver\\webdriver\\__init__.py:528: FutureWarning: browser.find_link_by_partial_text is deprecated. Use browser.links.find_by_partial_text instead.\n",
      "  FutureWarning,\n"
     ]
    },
    {
     "name": "stdout",
     "output_type": "stream",
     "text": [
      "Scraping Complete\n"
     ]
    }
   ],
   "source": [
    "url_jpl = 'https://astrogeology.usgs.gov/search/results?q=hemisphere+enhanced&k1=target&v1=Mars'\n",
    "browser.visit(url_jpl)\n",
    "\n",
    "try:\n",
    "    browser.click_link_by_partial_text('FULL IMAGE')\n",
    "          \n",
    "except:\n",
    "    print(\"Scraping Complete\")\n",
    "    \n",
    "\n",
    "newHtml = browser.html\n",
    "soup = BeautifulSoup(newHtml, 'html.parser')"
   ]
  },
  {
   "cell_type": "code",
   "execution_count": null,
   "metadata": {},
   "outputs": [],
   "source": []
  },
  {
   "cell_type": "code",
   "execution_count": null,
   "metadata": {},
   "outputs": [],
   "source": []
  },
  {
   "cell_type": "code",
   "execution_count": null,
   "metadata": {},
   "outputs": [],
   "source": [
    "url_jpl = 'https://astrogeology.usgs.gov/search/results?q=hemisphere+enhanced&k1=target&v1=Mars'\n",
    "browser.visit(url_jpl)\n",
    "\n",
    "try:\n",
    "    browser.find_link_by_text('Cerberus').first.click()\n",
    "          \n",
    "except:\n",
    "    print(\"Scraping Complete\")\n",
    "    \n",
    "\n",
    "newHtml = browser.html\n",
    "soup = BeautifulSoup(newHtml, 'html.parser')"
   ]
  },
  {
   "cell_type": "code",
   "execution_count": null,
   "metadata": {},
   "outputs": [],
   "source": []
  },
  {
   "cell_type": "code",
   "execution_count": null,
   "metadata": {},
   "outputs": [],
   "source": [
    "executable_path = {'executable_path': 'chromedriver.exe'}\n",
    "browser = Browser('chrome', **executable_path, headless=False)\n",
    "url_jpl = 'https://astrogeology.usgs.gov/search/results?q=hemisphere+enhanced&k1=target&v1=Mars'\n",
    "browser.visit(url_jpl)\n",
    "try:\n",
    "    browser.click_link_by_partial_href('https://astrogeology.usgs.gov/search/map/Mars/Viking/cerberus_enhanced')\n",
    "          \n",
    "except:\n",
    "    print(\"Scraping Complete\")\n",
    "    \n",
    "\n",
    "newHtml = browser.html\n",
    "soup = BeautifulSoup(newHtml, 'html.parser')"
   ]
  },
  {
   "cell_type": "code",
   "execution_count": null,
   "metadata": {},
   "outputs": [],
   "source": []
  },
  {
   "cell_type": "code",
   "execution_count": null,
   "metadata": {},
   "outputs": [],
   "source": [
    "executable_path = {'executable_path': 'chromedriver.exe'}\n",
    "browser = Browser('chrome', **executable_path, headless=False)\n",
    "url_jpl = 'https://astrogeology.usgs.gov/search/results?q=hemisphere+enhanced&k1=target&v1=Mars'\n",
    "browser.visit(url_jpl)\n",
    "try:\n",
    "    browser.find_by_name('Cerberus Hemisphere Enhanced').first.click()          \n",
    "except:\n",
    "    print(\"Scraping Complete\")\n",
    "    \n",
    "\n",
    "newHtml = browser.html\n",
    "soup = BeautifulSoup(newHtml, 'html.parser')"
   ]
  },
  {
   "cell_type": "code",
   "execution_count": null,
   "metadata": {},
   "outputs": [],
   "source": []
  },
  {
   "cell_type": "code",
   "execution_count": null,
   "metadata": {},
   "outputs": [],
   "source": [
    "executable_path = {'executable_path': 'chromedriver.exe'}\n",
    "browser = Browser('chrome', **executable_path, headless=False)\n",
    "url_hemi = 'https://astrogeology.usgs.gov/search/map/Mars/Viking/cerberus_enhanced'\n",
    "browser.visit(url_hemi)\n",
    "\n",
    "    \n",
    "\n",
    "newHtml = browser.html\n",
    "soup = BeautifulSoup(newHtml, 'html.parser')"
   ]
  },
  {
   "cell_type": "code",
   "execution_count": null,
   "metadata": {},
   "outputs": [],
   "source": [
    "4 ResultsCollapse\n",
    "Cerberus Hemisphere Enhanced thumbnail\n",
    "Cerberus Hemisphere Enhanced"
   ]
  },
  {
   "cell_type": "code",
   "execution_count": null,
   "metadata": {},
   "outputs": [],
   "source": []
  },
  {
   "cell_type": "code",
   "execution_count": null,
   "metadata": {},
   "outputs": [],
   "source": []
  },
  {
   "cell_type": "code",
   "execution_count": null,
   "metadata": {},
   "outputs": [],
   "source": [
    "url = 'https://astrogeology.usgs.gov/search/map/Mars/Viking/cerberus_enhanced'\n",
    "\n",
    "# Retrieve page with the requests module\n",
    "response = requests.get(url)\n",
    "# Create BeautifulSoup object; parse with 'html'\n",
    "soup = BeautifulSoup(response.text, 'html.parser')\n"
   ]
  },
  {
   "cell_type": "code",
   "execution_count": null,
   "metadata": {},
   "outputs": [],
   "source": [
    "soup.find('div')"
   ]
  },
  {
   "cell_type": "code",
   "execution_count": null,
   "metadata": {},
   "outputs": [],
   "source": []
  }
 ],
 "metadata": {
  "kernelspec": {
   "display_name": "Python 3",
   "language": "python",
   "name": "python3"
  },
  "language_info": {
   "codemirror_mode": {
    "name": "ipython",
    "version": 3
   },
   "file_extension": ".py",
   "mimetype": "text/x-python",
   "name": "python",
   "nbconvert_exporter": "python",
   "pygments_lexer": "ipython3",
   "version": "3.6.10"
  }
 },
 "nbformat": 4,
 "nbformat_minor": 4
}
