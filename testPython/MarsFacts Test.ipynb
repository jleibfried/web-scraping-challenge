{
 "cells": [
  {
   "cell_type": "code",
   "execution_count": 42,
   "metadata": {},
   "outputs": [],
   "source": [
    "import requests\n",
    "import pymongo\n",
    "from splinter import Browser\n",
    "from bs4 import BeautifulSoup\n",
    "import pandas as pd"
   ]
  },
  {
   "cell_type": "code",
   "execution_count": 43,
   "metadata": {},
   "outputs": [
    {
     "ename": "SyntaxError",
     "evalue": "invalid syntax (<ipython-input-43-eacfa3c3699a>, line 1)",
     "output_type": "error",
     "traceback": [
      "\u001b[1;36m  File \u001b[1;32m\"<ipython-input-43-eacfa3c3699a>\"\u001b[1;36m, line \u001b[1;32m1\u001b[0m\n\u001b[1;33m    marsFactsDf = pd.read_html(https://space-facts.com/mars/)\u001b[0m\n\u001b[1;37m                                    ^\u001b[0m\n\u001b[1;31mSyntaxError\u001b[0m\u001b[1;31m:\u001b[0m invalid syntax\n"
     ]
    }
   ],
   "source": [
    "marsFactsDf = pd.read_html(https://space-facts.com/mars/)"
   ]
  },
  {
   "cell_type": "code",
   "execution_count": null,
   "metadata": {},
   "outputs": [],
   "source": []
  },
  {
   "cell_type": "code",
   "execution_count": 13,
   "metadata": {},
   "outputs": [
    {
     "data": {
      "text/html": [
       "<div>\n",
       "<style scoped>\n",
       "    .dataframe tbody tr th:only-of-type {\n",
       "        vertical-align: middle;\n",
       "    }\n",
       "\n",
       "    .dataframe tbody tr th {\n",
       "        vertical-align: top;\n",
       "    }\n",
       "\n",
       "    .dataframe thead th {\n",
       "        text-align: right;\n",
       "    }\n",
       "</style>\n",
       "<table border=\"1\" class=\"dataframe\">\n",
       "  <thead>\n",
       "    <tr style=\"text-align: right;\">\n",
       "      <th></th>\n",
       "      <th>Unnamed: 0</th>\n",
       "      <th>Country (or dependent territory, subnational area, etc.)</th>\n",
       "      <th>Estimate of civilian firearms per 100 persons</th>\n",
       "      <th>Region</th>\n",
       "      <th>Subregion</th>\n",
       "      <th>Population 2017</th>\n",
       "      <th>Estimate of firearms in civilian possession</th>\n",
       "      <th>Computation method</th>\n",
       "      <th>Registered firearms</th>\n",
       "      <th>Unregistered firearms</th>\n",
       "      <th>Notes</th>\n",
       "    </tr>\n",
       "  </thead>\n",
       "  <tbody>\n",
       "    <tr>\n",
       "      <th>0</th>\n",
       "      <td>NaN</td>\n",
       "      <td>NaN</td>\n",
       "      <td>NaN</td>\n",
       "      <td>NaN</td>\n",
       "      <td>NaN</td>\n",
       "      <td>NaN</td>\n",
       "      <td>NaN</td>\n",
       "      <td>NaN</td>\n",
       "      <td>NaN</td>\n",
       "      <td>NaN</td>\n",
       "      <td>NaN</td>\n",
       "    </tr>\n",
       "    <tr>\n",
       "      <th>1</th>\n",
       "      <td>1.0</td>\n",
       "      <td>United States</td>\n",
       "      <td>120.5</td>\n",
       "      <td>Americas</td>\n",
       "      <td>North America</td>\n",
       "      <td>326474000.0</td>\n",
       "      <td>393347000</td>\n",
       "      <td>1.0</td>\n",
       "      <td>1073743.0</td>\n",
       "      <td>392273257.0</td>\n",
       "      <td>[note 2]</td>\n",
       "    </tr>\n",
       "    <tr>\n",
       "      <th>2</th>\n",
       "      <td>2.0</td>\n",
       "      <td>Falkland Islands</td>\n",
       "      <td>62.1</td>\n",
       "      <td>Americas</td>\n",
       "      <td>South America</td>\n",
       "      <td>3000.0</td>\n",
       "      <td>2000</td>\n",
       "      <td>2.0</td>\n",
       "      <td>1705.0</td>\n",
       "      <td>295.0</td>\n",
       "      <td>NaN</td>\n",
       "    </tr>\n",
       "    <tr>\n",
       "      <th>3</th>\n",
       "      <td>3.0</td>\n",
       "      <td>Yemen</td>\n",
       "      <td>52.8</td>\n",
       "      <td>Asia</td>\n",
       "      <td>Western Asia</td>\n",
       "      <td>28120000.0</td>\n",
       "      <td>14859000</td>\n",
       "      <td>2.0</td>\n",
       "      <td>NaN</td>\n",
       "      <td>NaN</td>\n",
       "      <td>NaN</td>\n",
       "    </tr>\n",
       "    <tr>\n",
       "      <th>4</th>\n",
       "      <td>4.0</td>\n",
       "      <td>New Caledonia</td>\n",
       "      <td>42.5</td>\n",
       "      <td>Oceania</td>\n",
       "      <td>Melanesia</td>\n",
       "      <td>270000.0</td>\n",
       "      <td>115000</td>\n",
       "      <td>2.0</td>\n",
       "      <td>55000.0</td>\n",
       "      <td>60000.0</td>\n",
       "      <td>NaN</td>\n",
       "    </tr>\n",
       "    <tr>\n",
       "      <th>...</th>\n",
       "      <td>...</td>\n",
       "      <td>...</td>\n",
       "      <td>...</td>\n",
       "      <td>...</td>\n",
       "      <td>...</td>\n",
       "      <td>...</td>\n",
       "      <td>...</td>\n",
       "      <td>...</td>\n",
       "      <td>...</td>\n",
       "      <td>...</td>\n",
       "      <td>...</td>\n",
       "    </tr>\n",
       "    <tr>\n",
       "      <th>224</th>\n",
       "      <td>226.0</td>\n",
       "      <td>Christmas Island</td>\n",
       "      <td>0.0</td>\n",
       "      <td>Asia</td>\n",
       "      <td>South-East Asia</td>\n",
       "      <td>2000.0</td>\n",
       "      <td>–</td>\n",
       "      <td>2.0</td>\n",
       "      <td>NaN</td>\n",
       "      <td>NaN</td>\n",
       "      <td>NaN</td>\n",
       "    </tr>\n",
       "    <tr>\n",
       "      <th>225</th>\n",
       "      <td>227.0</td>\n",
       "      <td>Holy See</td>\n",
       "      <td>0.0</td>\n",
       "      <td>Europe</td>\n",
       "      <td>Southern Europe</td>\n",
       "      <td>1000.0</td>\n",
       "      <td>–</td>\n",
       "      <td>2.0</td>\n",
       "      <td>NaN</td>\n",
       "      <td>NaN</td>\n",
       "      <td>NaN</td>\n",
       "    </tr>\n",
       "    <tr>\n",
       "      <th>226</th>\n",
       "      <td>228.0</td>\n",
       "      <td>Indonesia</td>\n",
       "      <td>0.0</td>\n",
       "      <td>Asia</td>\n",
       "      <td>South-East Asia</td>\n",
       "      <td>263510000.0</td>\n",
       "      <td>82000</td>\n",
       "      <td>2.0</td>\n",
       "      <td>41102.0</td>\n",
       "      <td>40898.0</td>\n",
       "      <td>NaN</td>\n",
       "    </tr>\n",
       "    <tr>\n",
       "      <th>227</th>\n",
       "      <td>229.0</td>\n",
       "      <td>Nauru</td>\n",
       "      <td>0.0</td>\n",
       "      <td>Oceania</td>\n",
       "      <td>Melanesia</td>\n",
       "      <td>10000.0</td>\n",
       "      <td>–</td>\n",
       "      <td>2.0</td>\n",
       "      <td>NaN</td>\n",
       "      <td>NaN</td>\n",
       "      <td>NaN</td>\n",
       "    </tr>\n",
       "    <tr>\n",
       "      <th>228</th>\n",
       "      <td>230.0</td>\n",
       "      <td>Taiwan</td>\n",
       "      <td>0.0</td>\n",
       "      <td>Asia</td>\n",
       "      <td>East Asia</td>\n",
       "      <td>23405000.0</td>\n",
       "      <td>10000</td>\n",
       "      <td>2.0</td>\n",
       "      <td>5000.0</td>\n",
       "      <td>5000.0</td>\n",
       "      <td>NaN</td>\n",
       "    </tr>\n",
       "  </tbody>\n",
       "</table>\n",
       "<p>229 rows × 11 columns</p>\n",
       "</div>"
      ],
      "text/plain": [
       "     Unnamed: 0 Country (or dependent territory, subnational area, etc.)  \\\n",
       "0           NaN                                                NaN         \n",
       "1           1.0                                      United States         \n",
       "2           2.0                                   Falkland Islands         \n",
       "3           3.0                                              Yemen         \n",
       "4           4.0                                      New Caledonia         \n",
       "..          ...                                                ...         \n",
       "224       226.0                                   Christmas Island         \n",
       "225       227.0                                           Holy See         \n",
       "226       228.0                                          Indonesia         \n",
       "227       229.0                                              Nauru         \n",
       "228       230.0                                             Taiwan         \n",
       "\n",
       "     Estimate of civilian firearms per 100 persons    Region        Subregion  \\\n",
       "0                                              NaN       NaN              NaN   \n",
       "1                                            120.5  Americas    North America   \n",
       "2                                             62.1  Americas    South America   \n",
       "3                                             52.8      Asia     Western Asia   \n",
       "4                                             42.5   Oceania        Melanesia   \n",
       "..                                             ...       ...              ...   \n",
       "224                                            0.0      Asia  South-East Asia   \n",
       "225                                            0.0    Europe  Southern Europe   \n",
       "226                                            0.0      Asia  South-East Asia   \n",
       "227                                            0.0   Oceania        Melanesia   \n",
       "228                                            0.0      Asia        East Asia   \n",
       "\n",
       "     Population 2017 Estimate of firearms in civilian possession  \\\n",
       "0                NaN                                         NaN   \n",
       "1        326474000.0                                   393347000   \n",
       "2             3000.0                                        2000   \n",
       "3         28120000.0                                    14859000   \n",
       "4           270000.0                                      115000   \n",
       "..               ...                                         ...   \n",
       "224           2000.0                                           –   \n",
       "225           1000.0                                           –   \n",
       "226      263510000.0                                       82000   \n",
       "227          10000.0                                           –   \n",
       "228       23405000.0                                       10000   \n",
       "\n",
       "     Computation method  Registered firearms  Unregistered firearms     Notes  \n",
       "0                   NaN                  NaN                    NaN       NaN  \n",
       "1                   1.0            1073743.0            392273257.0  [note 2]  \n",
       "2                   2.0               1705.0                  295.0       NaN  \n",
       "3                   2.0                  NaN                    NaN       NaN  \n",
       "4                   2.0              55000.0                60000.0       NaN  \n",
       "..                  ...                  ...                    ...       ...  \n",
       "224                 2.0                  NaN                    NaN       NaN  \n",
       "225                 2.0                  NaN                    NaN       NaN  \n",
       "226                 2.0              41102.0                40898.0       NaN  \n",
       "227                 2.0                  NaN                    NaN       NaN  \n",
       "228                 2.0               5000.0                 5000.0       NaN  \n",
       "\n",
       "[229 rows x 11 columns]"
      ]
     },
     "execution_count": 13,
     "metadata": {},
     "output_type": "execute_result"
    }
   ],
   "source": [
    "\n"
   ]
  },
  {
   "cell_type": "code",
   "execution_count": 22,
   "metadata": {},
   "outputs": [],
   "source": [
    "url = 'https://space-facts.com/mars/'\n",
    "\n",
    "# Retrieve page with the requests module\n",
    "response = requests.get(url)\n",
    "# Create BeautifulSoup object; parse with 'html'\n",
    "soup = BeautifulSoup(response.text, 'html.parser')\n"
   ]
  },
  {
   "cell_type": "code",
   "execution_count": 36,
   "metadata": {},
   "outputs": [
    {
     "data": {
      "text/plain": [
       "[<tr class=\"row-1 odd\"><td class=\"column-1\"><strong>Equatorial Diameter:</strong></td><td class=\"column-2\">6,792 km<br/></td></tr>,\n",
       " <tr class=\"row-2 even\"><td class=\"column-1\"><strong>Polar Diameter:</strong></td><td class=\"column-2\">6,752 km<br/></td></tr>,\n",
       " <tr class=\"row-3 odd\"><td class=\"column-1\"><strong>Mass:</strong></td><td class=\"column-2\">6.39 × 10^23 kg<br/> (0.11 Earths)</td></tr>,\n",
       " <tr class=\"row-4 even\"><td class=\"column-1\"><strong>Moons:</strong></td><td class=\"column-2\">2 (<a href=\"https://space-facts.com/moons/phobos/\">Phobos</a> &amp; <a href=\"https://space-facts.com/moons/deimos/\">Deimos</a>)</td></tr>,\n",
       " <tr class=\"row-5 odd\"><td class=\"column-1\"><strong>Orbit Distance:</strong></td><td class=\"column-2\">227,943,824 km<br/> (1.38 AU)</td></tr>,\n",
       " <tr class=\"row-6 even\"><td class=\"column-1\"><strong>Orbit Period:</strong></td><td class=\"column-2\">687 days (1.9 years)<br/></td></tr>,\n",
       " <tr class=\"row-7 odd\"><td class=\"column-1\"><strong>Surface Temperature: </strong></td><td class=\"column-2\">-87 to -5 °C</td></tr>,\n",
       " <tr class=\"row-8 even\"><td class=\"column-1\"><strong>First Record:</strong></td><td class=\"column-2\">2nd millennium BC</td></tr>,\n",
       " <tr class=\"row-9 odd\"><td class=\"column-1\"><strong>Recorded By:</strong></td><td class=\"column-2\">Egyptian astronomers</td></tr>]"
      ]
     },
     "execution_count": 36,
     "metadata": {},
     "output_type": "execute_result"
    }
   ],
   "source": [
    "# Code from here\n",
    "# https://pythonprogramminglanguage.com/web-scraping-with-pandas-and-beautifulsoup/\n",
    "# https://stackoverflow.com/questions/50633050/scrape-tables-into-dataframe-with-beautifulsoup\n",
    "\n",
    "table = soup.find_all('table')[0]\n",
    "table_rows = table.find_all('tr')\n",
    "table_rows"
   ]
  },
  {
   "cell_type": "code",
   "execution_count": 39,
   "metadata": {},
   "outputs": [
    {
     "data": {
      "text/html": [
       "<div>\n",
       "<style scoped>\n",
       "    .dataframe tbody tr th:only-of-type {\n",
       "        vertical-align: middle;\n",
       "    }\n",
       "\n",
       "    .dataframe tbody tr th {\n",
       "        vertical-align: top;\n",
       "    }\n",
       "\n",
       "    .dataframe thead th {\n",
       "        text-align: right;\n",
       "    }\n",
       "</style>\n",
       "<table border=\"1\" class=\"dataframe\">\n",
       "  <thead>\n",
       "    <tr style=\"text-align: right;\">\n",
       "      <th></th>\n",
       "      <th>0</th>\n",
       "      <th>1</th>\n",
       "    </tr>\n",
       "  </thead>\n",
       "  <tbody>\n",
       "    <tr>\n",
       "      <th>0</th>\n",
       "      <td>Equatorial Diameter:</td>\n",
       "      <td>6,792 km</td>\n",
       "    </tr>\n",
       "    <tr>\n",
       "      <th>1</th>\n",
       "      <td>Polar Diameter:</td>\n",
       "      <td>6,752 km</td>\n",
       "    </tr>\n",
       "    <tr>\n",
       "      <th>2</th>\n",
       "      <td>Mass:</td>\n",
       "      <td>6.39 × 10^23 kg (0.11 Earths)</td>\n",
       "    </tr>\n",
       "    <tr>\n",
       "      <th>3</th>\n",
       "      <td>Moons:</td>\n",
       "      <td>2 (Phobos &amp; Deimos)</td>\n",
       "    </tr>\n",
       "    <tr>\n",
       "      <th>4</th>\n",
       "      <td>Orbit Distance:</td>\n",
       "      <td>227,943,824 km (1.38 AU)</td>\n",
       "    </tr>\n",
       "    <tr>\n",
       "      <th>5</th>\n",
       "      <td>Orbit Period:</td>\n",
       "      <td>687 days (1.9 years)</td>\n",
       "    </tr>\n",
       "    <tr>\n",
       "      <th>6</th>\n",
       "      <td>Surface Temperature:</td>\n",
       "      <td>-87 to -5 °C</td>\n",
       "    </tr>\n",
       "    <tr>\n",
       "      <th>7</th>\n",
       "      <td>First Record:</td>\n",
       "      <td>2nd millennium BC</td>\n",
       "    </tr>\n",
       "    <tr>\n",
       "      <th>8</th>\n",
       "      <td>Recorded By:</td>\n",
       "      <td>Egyptian astronomers</td>\n",
       "    </tr>\n",
       "  </tbody>\n",
       "</table>\n",
       "</div>"
      ],
      "text/plain": [
       "                       0                              1\n",
       "0   Equatorial Diameter:                       6,792 km\n",
       "1        Polar Diameter:                       6,752 km\n",
       "2                  Mass:  6.39 × 10^23 kg (0.11 Earths)\n",
       "3                 Moons:            2 (Phobos & Deimos)\n",
       "4        Orbit Distance:       227,943,824 km (1.38 AU)\n",
       "5          Orbit Period:           687 days (1.9 years)\n",
       "6  Surface Temperature:                    -87 to -5 °C\n",
       "7          First Record:              2nd millennium BC\n",
       "8           Recorded By:           Egyptian astronomers"
      ]
     },
     "execution_count": 39,
     "metadata": {},
     "output_type": "execute_result"
    }
   ],
   "source": [
    "l = []\n",
    "for tr in table_rows:\n",
    "    td = tr.find_all('td')\n",
    "    row = [tr.text for tr in td]\n",
    "    l.append(row)\n",
    "factsDf = pd.DataFrame(l)\n",
    "factsDf"
   ]
  },
  {
   "cell_type": "code",
   "execution_count": 41,
   "metadata": {},
   "outputs": [
    {
     "data": {
      "text/plain": [
       "'<table border=\"1\" class=\"dataframe\">\\n  <thead>\\n    <tr style=\"text-align: right;\">\\n      <th></th>\\n      <th>0</th>\\n      <th>1</th>\\n    </tr>\\n  </thead>\\n  <tbody>\\n    <tr>\\n      <th>0</th>\\n      <td>Equatorial Diameter:</td>\\n      <td>6,792 km</td>\\n    </tr>\\n    <tr>\\n      <th>1</th>\\n      <td>Polar Diameter:</td>\\n      <td>6,752 km</td>\\n    </tr>\\n    <tr>\\n      <th>2</th>\\n      <td>Mass:</td>\\n      <td>6.39 × 10^23 kg (0.11 Earths)</td>\\n    </tr>\\n    <tr>\\n      <th>3</th>\\n      <td>Moons:</td>\\n      <td>2 (Phobos &amp; Deimos)</td>\\n    </tr>\\n    <tr>\\n      <th>4</th>\\n      <td>Orbit Distance:</td>\\n      <td>227,943,824 km (1.38 AU)</td>\\n    </tr>\\n    <tr>\\n      <th>5</th>\\n      <td>Orbit Period:</td>\\n      <td>687 days (1.9 years)</td>\\n    </tr>\\n    <tr>\\n      <th>6</th>\\n      <td>Surface Temperature:</td>\\n      <td>-87 to -5 °C</td>\\n    </tr>\\n    <tr>\\n      <th>7</th>\\n      <td>First Record:</td>\\n      <td>2nd millennium BC</td>\\n    </tr>\\n    <tr>\\n      <th>8</th>\\n      <td>Recorded By:</td>\\n      <td>Egyptian astronomers</td>\\n    </tr>\\n  </tbody>\\n</table>'"
      ]
     },
     "execution_count": 41,
     "metadata": {},
     "output_type": "execute_result"
    }
   ],
   "source": [
    "htmlOutput = factsDf.to_html()\n",
    "htmlOutput"
   ]
  },
  {
   "cell_type": "code",
   "execution_count": null,
   "metadata": {},
   "outputs": [],
   "source": []
  },
  {
   "cell_type": "code",
   "execution_count": null,
   "metadata": {},
   "outputs": [],
   "source": []
  },
  {
   "cell_type": "code",
   "execution_count": 32,
   "metadata": {},
   "outputs": [],
   "source": []
  },
  {
   "cell_type": "code",
   "execution_count": 30,
   "metadata": {},
   "outputs": [
    {
     "data": {
      "text/plain": [
       "[                      0                              1\n",
       " 0  Equatorial Diameter:                       6,792 km\n",
       " 1       Polar Diameter:                       6,752 km\n",
       " 2                 Mass:  6.39 × 10^23 kg (0.11 Earths)\n",
       " 3                Moons:            2 (Phobos & Deimos)\n",
       " 4       Orbit Distance:       227,943,824 km (1.38 AU)\n",
       " 5         Orbit Period:           687 days (1.9 years)\n",
       " 6  Surface Temperature:                   -87 to -5 °C\n",
       " 7         First Record:              2nd millennium BC\n",
       " 8          Recorded By:           Egyptian astronomers]"
      ]
     },
     "execution_count": 30,
     "metadata": {},
     "output_type": "execute_result"
    }
   ],
   "source": [
    "df"
   ]
  },
  {
   "cell_type": "code",
   "execution_count": 27,
   "metadata": {},
   "outputs": [
    {
     "ename": "TypeError",
     "evalue": "'type' object is not subscriptable",
     "output_type": "error",
     "traceback": [
      "\u001b[1;31m---------------------------------------------------------------------------\u001b[0m",
      "\u001b[1;31mTypeError\u001b[0m                                 Traceback (most recent call last)",
      "\u001b[1;32m<ipython-input-27-99348b682457>\u001b[0m in \u001b[0;36m<module>\u001b[1;34m\u001b[0m\n\u001b[1;32m----> 1\u001b[1;33m \u001b[0moutDf\u001b[0m \u001b[1;33m=\u001b[0m \u001b[0mpd\u001b[0m\u001b[1;33m.\u001b[0m\u001b[0mDataFrame\u001b[0m\u001b[1;33m[\u001b[0m\u001b[0mdf\u001b[0m\u001b[1;33m]\u001b[0m\u001b[1;33m\u001b[0m\u001b[1;33m\u001b[0m\u001b[0m\n\u001b[0m",
      "\u001b[1;31mTypeError\u001b[0m: 'type' object is not subscriptable"
     ]
    }
   ],
   "source": [
    "outDf = pd.DataFrame[df]"
   ]
  },
  {
   "cell_type": "code",
   "execution_count": 25,
   "metadata": {},
   "outputs": [
    {
     "ename": "AttributeError",
     "evalue": "'list' object has no attribute 'to_html'",
     "output_type": "error",
     "traceback": [
      "\u001b[1;31m---------------------------------------------------------------------------\u001b[0m",
      "\u001b[1;31mAttributeError\u001b[0m                            Traceback (most recent call last)",
      "\u001b[1;32m<ipython-input-25-efc50609b7a0>\u001b[0m in \u001b[0;36m<module>\u001b[1;34m\u001b[0m\n\u001b[1;32m----> 1\u001b[1;33m \u001b[0mhtml\u001b[0m \u001b[1;33m=\u001b[0m \u001b[0mdf\u001b[0m\u001b[1;33m.\u001b[0m\u001b[0mto_html\u001b[0m\u001b[1;33m(\u001b[0m\u001b[1;33m)\u001b[0m\u001b[1;33m\u001b[0m\u001b[1;33m\u001b[0m\u001b[0m\n\u001b[0m",
      "\u001b[1;31mAttributeError\u001b[0m: 'list' object has no attribute 'to_html'"
     ]
    }
   ],
   "source": [
    "html = df.to_html()"
   ]
  },
  {
   "cell_type": "code",
   "execution_count": 15,
   "metadata": {},
   "outputs": [
    {
     "ename": "NameError",
     "evalue": "name 'tbody' is not defined",
     "output_type": "error",
     "traceback": [
      "\u001b[1;31m---------------------------------------------------------------------------\u001b[0m",
      "\u001b[1;31mNameError\u001b[0m                                 Traceback (most recent call last)",
      "\u001b[1;32m<ipython-input-15-c0d00958945f>\u001b[0m in \u001b[0;36m<module>\u001b[1;34m\u001b[0m\n\u001b[0;32m      1\u001b[0m \u001b[0msoupyTable\u001b[0m \u001b[1;33m=\u001b[0m \u001b[0msoup\u001b[0m\u001b[1;33m.\u001b[0m\u001b[0mfind\u001b[0m\u001b[1;33m(\u001b[0m\u001b[0mid\u001b[0m\u001b[1;33m=\u001b[0m\u001b[1;34m'tablepress-p-mars-no-2'\u001b[0m\u001b[1;33m)\u001b[0m\u001b[1;33m\u001b[0m\u001b[1;33m\u001b[0m\u001b[0m\n\u001b[1;32m----> 2\u001b[1;33m \u001b[0msoupyTable\u001b[0m\u001b[1;33m[\u001b[0m\u001b[0mtbody\u001b[0m\u001b[1;33m]\u001b[0m\u001b[1;33m\u001b[0m\u001b[1;33m\u001b[0m\u001b[0m\n\u001b[0m",
      "\u001b[1;31mNameError\u001b[0m: name 'tbody' is not defined"
     ]
    }
   ],
   "source": []
  },
  {
   "cell_type": "code",
   "execution_count": 11,
   "metadata": {},
   "outputs": [
    {
     "ename": "TypeError",
     "evalue": "'NoneType' object is not callable",
     "output_type": "error",
     "traceback": [
      "\u001b[1;31m---------------------------------------------------------------------------\u001b[0m",
      "\u001b[1;31mTypeError\u001b[0m                                 Traceback (most recent call last)",
      "\u001b[1;32m<ipython-input-11-a8ca2ea0d1a9>\u001b[0m in \u001b[0;36m<module>\u001b[1;34m\u001b[0m\n\u001b[1;32m----> 1\u001b[1;33m \u001b[0mmarsFactsDf\u001b[0m \u001b[1;33m=\u001b[0m \u001b[0mpd\u001b[0m\u001b[1;33m.\u001b[0m\u001b[0mread_html\u001b[0m\u001b[1;33m(\u001b[0m\u001b[0msoupyTable\u001b[0m\u001b[1;33m)\u001b[0m\u001b[1;33m\u001b[0m\u001b[1;33m\u001b[0m\u001b[0m\n\u001b[0m",
      "\u001b[1;32m~\\Anaconda3\\envs\\PythonData\\lib\\site-packages\\pandas\\io\\html.py\u001b[0m in \u001b[0;36mread_html\u001b[1;34m(io, match, flavor, header, index_col, skiprows, attrs, parse_dates, thousands, encoding, decimal, converters, na_values, keep_default_na, displayed_only)\u001b[0m\n\u001b[0;32m   1098\u001b[0m         \u001b[0mna_values\u001b[0m\u001b[1;33m=\u001b[0m\u001b[0mna_values\u001b[0m\u001b[1;33m,\u001b[0m\u001b[1;33m\u001b[0m\u001b[1;33m\u001b[0m\u001b[0m\n\u001b[0;32m   1099\u001b[0m         \u001b[0mkeep_default_na\u001b[0m\u001b[1;33m=\u001b[0m\u001b[0mkeep_default_na\u001b[0m\u001b[1;33m,\u001b[0m\u001b[1;33m\u001b[0m\u001b[1;33m\u001b[0m\u001b[0m\n\u001b[1;32m-> 1100\u001b[1;33m         \u001b[0mdisplayed_only\u001b[0m\u001b[1;33m=\u001b[0m\u001b[0mdisplayed_only\u001b[0m\u001b[1;33m,\u001b[0m\u001b[1;33m\u001b[0m\u001b[1;33m\u001b[0m\u001b[0m\n\u001b[0m\u001b[0;32m   1101\u001b[0m     )\n",
      "\u001b[1;32m~\\Anaconda3\\envs\\PythonData\\lib\\site-packages\\pandas\\io\\html.py\u001b[0m in \u001b[0;36m_parse\u001b[1;34m(flavor, io, match, attrs, encoding, displayed_only, **kwargs)\u001b[0m\n\u001b[0;32m    893\u001b[0m \u001b[1;33m\u001b[0m\u001b[0m\n\u001b[0;32m    894\u001b[0m         \u001b[1;32mtry\u001b[0m\u001b[1;33m:\u001b[0m\u001b[1;33m\u001b[0m\u001b[1;33m\u001b[0m\u001b[0m\n\u001b[1;32m--> 895\u001b[1;33m             \u001b[0mtables\u001b[0m \u001b[1;33m=\u001b[0m \u001b[0mp\u001b[0m\u001b[1;33m.\u001b[0m\u001b[0mparse_tables\u001b[0m\u001b[1;33m(\u001b[0m\u001b[1;33m)\u001b[0m\u001b[1;33m\u001b[0m\u001b[1;33m\u001b[0m\u001b[0m\n\u001b[0m\u001b[0;32m    896\u001b[0m         \u001b[1;32mexcept\u001b[0m \u001b[0mValueError\u001b[0m \u001b[1;32mas\u001b[0m \u001b[0mcaught\u001b[0m\u001b[1;33m:\u001b[0m\u001b[1;33m\u001b[0m\u001b[1;33m\u001b[0m\u001b[0m\n\u001b[0;32m    897\u001b[0m             \u001b[1;31m# if `io` is an io-like object, check if it's seekable\u001b[0m\u001b[1;33m\u001b[0m\u001b[1;33m\u001b[0m\u001b[1;33m\u001b[0m\u001b[0m\n",
      "\u001b[1;32m~\\Anaconda3\\envs\\PythonData\\lib\\site-packages\\pandas\\io\\html.py\u001b[0m in \u001b[0;36mparse_tables\u001b[1;34m(self)\u001b[0m\n\u001b[0;32m    211\u001b[0m         \u001b[0mlist\u001b[0m \u001b[0mof\u001b[0m \u001b[0mparsed\u001b[0m \u001b[1;33m(\u001b[0m\u001b[0mheader\u001b[0m\u001b[1;33m,\u001b[0m \u001b[0mbody\u001b[0m\u001b[1;33m,\u001b[0m \u001b[0mfooter\u001b[0m\u001b[1;33m)\u001b[0m \u001b[0mtuples\u001b[0m \u001b[1;32mfrom\u001b[0m \u001b[0mtables\u001b[0m\u001b[1;33m.\u001b[0m\u001b[1;33m\u001b[0m\u001b[1;33m\u001b[0m\u001b[0m\n\u001b[0;32m    212\u001b[0m         \"\"\"\n\u001b[1;32m--> 213\u001b[1;33m         \u001b[0mtables\u001b[0m \u001b[1;33m=\u001b[0m \u001b[0mself\u001b[0m\u001b[1;33m.\u001b[0m\u001b[0m_parse_tables\u001b[0m\u001b[1;33m(\u001b[0m\u001b[0mself\u001b[0m\u001b[1;33m.\u001b[0m\u001b[0m_build_doc\u001b[0m\u001b[1;33m(\u001b[0m\u001b[1;33m)\u001b[0m\u001b[1;33m,\u001b[0m \u001b[0mself\u001b[0m\u001b[1;33m.\u001b[0m\u001b[0mmatch\u001b[0m\u001b[1;33m,\u001b[0m \u001b[0mself\u001b[0m\u001b[1;33m.\u001b[0m\u001b[0mattrs\u001b[0m\u001b[1;33m)\u001b[0m\u001b[1;33m\u001b[0m\u001b[1;33m\u001b[0m\u001b[0m\n\u001b[0m\u001b[0;32m    214\u001b[0m         \u001b[1;32mreturn\u001b[0m \u001b[1;33m(\u001b[0m\u001b[0mself\u001b[0m\u001b[1;33m.\u001b[0m\u001b[0m_parse_thead_tbody_tfoot\u001b[0m\u001b[1;33m(\u001b[0m\u001b[0mtable\u001b[0m\u001b[1;33m)\u001b[0m \u001b[1;32mfor\u001b[0m \u001b[0mtable\u001b[0m \u001b[1;32min\u001b[0m \u001b[0mtables\u001b[0m\u001b[1;33m)\u001b[0m\u001b[1;33m\u001b[0m\u001b[1;33m\u001b[0m\u001b[0m\n\u001b[0;32m    215\u001b[0m \u001b[1;33m\u001b[0m\u001b[0m\n",
      "\u001b[1;32m~\\Anaconda3\\envs\\PythonData\\lib\\site-packages\\pandas\\io\\html.py\u001b[0m in \u001b[0;36m_build_doc\u001b[1;34m(self)\u001b[0m\n\u001b[0;32m    716\u001b[0m             \u001b[1;32melse\u001b[0m\u001b[1;33m:\u001b[0m\u001b[1;33m\u001b[0m\u001b[1;33m\u001b[0m\u001b[0m\n\u001b[0;32m    717\u001b[0m                 \u001b[1;31m# try to parse the input in the simplest way\u001b[0m\u001b[1;33m\u001b[0m\u001b[1;33m\u001b[0m\u001b[1;33m\u001b[0m\u001b[0m\n\u001b[1;32m--> 718\u001b[1;33m                 \u001b[0mr\u001b[0m \u001b[1;33m=\u001b[0m \u001b[0mparse\u001b[0m\u001b[1;33m(\u001b[0m\u001b[0mself\u001b[0m\u001b[1;33m.\u001b[0m\u001b[0mio\u001b[0m\u001b[1;33m,\u001b[0m \u001b[0mparser\u001b[0m\u001b[1;33m=\u001b[0m\u001b[0mparser\u001b[0m\u001b[1;33m)\u001b[0m\u001b[1;33m\u001b[0m\u001b[1;33m\u001b[0m\u001b[0m\n\u001b[0m\u001b[0;32m    719\u001b[0m             \u001b[1;32mtry\u001b[0m\u001b[1;33m:\u001b[0m\u001b[1;33m\u001b[0m\u001b[1;33m\u001b[0m\u001b[0m\n\u001b[0;32m    720\u001b[0m                 \u001b[0mr\u001b[0m \u001b[1;33m=\u001b[0m \u001b[0mr\u001b[0m\u001b[1;33m.\u001b[0m\u001b[0mgetroot\u001b[0m\u001b[1;33m(\u001b[0m\u001b[1;33m)\u001b[0m\u001b[1;33m\u001b[0m\u001b[1;33m\u001b[0m\u001b[0m\n",
      "\u001b[1;32m~\\Anaconda3\\envs\\PythonData\\lib\\site-packages\\lxml\\html\\__init__.py\u001b[0m in \u001b[0;36mparse\u001b[1;34m(filename_or_url, parser, base_url, **kw)\u001b[0m\n\u001b[0;32m    937\u001b[0m     \u001b[1;32mif\u001b[0m \u001b[0mparser\u001b[0m \u001b[1;32mis\u001b[0m \u001b[1;32mNone\u001b[0m\u001b[1;33m:\u001b[0m\u001b[1;33m\u001b[0m\u001b[1;33m\u001b[0m\u001b[0m\n\u001b[0;32m    938\u001b[0m         \u001b[0mparser\u001b[0m \u001b[1;33m=\u001b[0m \u001b[0mhtml_parser\u001b[0m\u001b[1;33m\u001b[0m\u001b[1;33m\u001b[0m\u001b[0m\n\u001b[1;32m--> 939\u001b[1;33m     \u001b[1;32mreturn\u001b[0m \u001b[0metree\u001b[0m\u001b[1;33m.\u001b[0m\u001b[0mparse\u001b[0m\u001b[1;33m(\u001b[0m\u001b[0mfilename_or_url\u001b[0m\u001b[1;33m,\u001b[0m \u001b[0mparser\u001b[0m\u001b[1;33m,\u001b[0m \u001b[0mbase_url\u001b[0m\u001b[1;33m=\u001b[0m\u001b[0mbase_url\u001b[0m\u001b[1;33m,\u001b[0m \u001b[1;33m**\u001b[0m\u001b[0mkw\u001b[0m\u001b[1;33m)\u001b[0m\u001b[1;33m\u001b[0m\u001b[1;33m\u001b[0m\u001b[0m\n\u001b[0m\u001b[0;32m    940\u001b[0m \u001b[1;33m\u001b[0m\u001b[0m\n\u001b[0;32m    941\u001b[0m \u001b[1;33m\u001b[0m\u001b[0m\n",
      "\u001b[1;32msrc\\lxml\\etree.pyx\u001b[0m in \u001b[0;36mlxml.etree.parse\u001b[1;34m()\u001b[0m\n",
      "\u001b[1;32msrc\\lxml\\parser.pxi\u001b[0m in \u001b[0;36mlxml.etree._parseDocument\u001b[1;34m()\u001b[0m\n",
      "\u001b[1;31mTypeError\u001b[0m: 'NoneType' object is not callable"
     ]
    }
   ],
   "source": []
  },
  {
   "cell_type": "code",
   "execution_count": null,
   "metadata": {},
   "outputs": [],
   "source": []
  },
  {
   "cell_type": "code",
   "execution_count": 16,
   "metadata": {},
   "outputs": [
    {
     "name": "stdout",
     "output_type": "stream",
     "text": [
      "[{\"#\":\"1\",\"COUNTRY\":\"China\",\"AMOUNT\":\"389 million\",\"DATE\":2009,\"GRAPH\":null,\"HISTORY\":null},{\"#\":\"2\",\"COUNTRY\":\"United States\",\"AMOUNT\":\"245 million\",\"DATE\":2009,\"GRAPH\":null,\"HISTORY\":null},{\"#\":\"3\",\"COUNTRY\":\"Japan\",\"AMOUNT\":\"99.18 million\",\"DATE\":2009,\"GRAPH\":null,\"HISTORY\":null},{\"#\":null,\"COUNTRY\":\"Group of 7 countries (G7) average (profile)\",\"AMOUNT\":\"80.32 million\",\"DATE\":2009,\"GRAPH\":null,\"HISTORY\":null},{\"#\":\"4\",\"COUNTRY\":\"Brazil\",\"AMOUNT\":\"75.98 million\",\"DATE\":2009,\"GRAPH\":null,\"HISTORY\":null},{\"#\":\"5\",\"COUNTRY\":\"Germany\",\"AMOUNT\":\"65.12 million\",\"DATE\":2010,\"GRAPH\":null,\"HISTORY\":null},{\"#\":\"6\",\"COUNTRY\":\"India\",\"AMOUNT\":\"61.34 million\",\"DATE\":2009,\"GRAPH\":null,\"HISTORY\":null},{\"#\":\"7\",\"COUNTRY\":\"Russia\",\"AMOUNT\":\"59.7 million\",\"DATE\":2010,\"GRAPH\":null,\"HISTORY\":null},{\"#\":null,\"COUNTRY\":\"Non-religious countries average (profile)\",\"AMOUNT\":\"51.56 million\",\"DATE\":2009,\"GRAPH\":null,\"HISTORY\":null},{\"#\":\"8\",\"COUNTRY\":\"United Kingdom\",\"AMOUNT\":\"51.44 million\",\"DATE\":2009,\"GRAPH\":null,\"HISTORY\":null},{\"#\":\"9\",\"COUNTRY\":\"France\",\"AMOUNT\":\"44.63 million\",\"DATE\":2010,\"GRAPH\":null,\"HISTORY\":null},{\"#\":\"10\",\"COUNTRY\":\"Nigeria\",\"AMOUNT\":\"43.99 million\",\"DATE\":2009,\"GRAPH\":null,\"HISTORY\":null},{\"#\":\"11\",\"COUNTRY\":\"South Korea\",\"AMOUNT\":\"39.4 million\",\"DATE\":2009,\"GRAPH\":null,\"HISTORY\":null},{\"#\":\"12\",\"COUNTRY\":\"Turkey\",\"AMOUNT\":\"35 million\",\"DATE\":2010,\"GRAPH\":null,\"HISTORY\":null},{\"#\":null,\"COUNTRY\":\"Emerging markets average (profile)\",\"AMOUNT\":\"32.99 million\",\"DATE\":2009,\"GRAPH\":null,\"HISTORY\":null},{\"#\":\"13\",\"COUNTRY\":\"Mexico\",\"AMOUNT\":\"31.02 million\",\"DATE\":2009,\"GRAPH\":null,\"HISTORY\":null},{\"#\":\"14\",\"COUNTRY\":\"Italy\",\"AMOUNT\":\"30.03 million\",\"DATE\":2010,\"GRAPH\":null,\"HISTORY\":null},{\"#\":\"15\",\"COUNTRY\":\"Spain\",\"AMOUNT\":\"29.09 million\",\"DATE\":2010,\"GRAPH\":null,\"HISTORY\":null},{\"#\":\"16\",\"COUNTRY\":\"Canada\",\"AMOUNT\":\"26.96 million\",\"DATE\":2009,\"GRAPH\":null,\"HISTORY\":null},{\"#\":null,\"COUNTRY\":\"East Asia and Pacific average (profile)\",\"AMOUNT\":\"25.43 million\",\"DATE\":2009,\"GRAPH\":null,\"HISTORY\":null},{\"#\":null,\"COUNTRY\":\"High income OECD countries average (profile)\",\"AMOUNT\":\"24.75 million\",\"DATE\":2009,\"GRAPH\":null,\"HISTORY\":null},{\"#\":null,\"COUNTRY\":\"Cold countries average (profile)\",\"AMOUNT\":\"23.69 million\",\"DATE\":2009,\"GRAPH\":null,\"HISTORY\":null},{\"#\":\"17\",\"COUNTRY\":\"Vietnam\",\"AMOUNT\":\"23.38 million\",\"DATE\":2009,\"GRAPH\":null,\"HISTORY\":null},{\"#\":\"18\",\"COUNTRY\":\"Colombia\",\"AMOUNT\":\"22.54 million\",\"DATE\":2009,\"GRAPH\":null,\"HISTORY\":null},{\"#\":\"19\",\"COUNTRY\":\"Poland\",\"AMOUNT\":\"22.45 million\",\"DATE\":2010,\"GRAPH\":null,\"HISTORY\":null},{\"#\":\"20\",\"COUNTRY\":\"Pakistan\",\"AMOUNT\":\"20.43 million\",\"DATE\":2009,\"GRAPH\":null,\"HISTORY\":null},{\"#\":\"21\",\"COUNTRY\":\"Egypt\",\"AMOUNT\":\"20.14 million\",\"DATE\":2009,\"GRAPH\":null,\"HISTORY\":null},{\"#\":\"22\",\"COUNTRY\":\"Indonesia\",\"AMOUNT\":\"20 million\",\"DATE\":2009,\"GRAPH\":null,\"HISTORY\":null},{\"#\":null,\"COUNTRY\":\"Heavily indebted countries average (profile)\",\"AMOUNT\":\"17.81 million\",\"DATE\":2009,\"GRAPH\":null,\"HISTORY\":null},{\"#\":\"23\",\"COUNTRY\":\"Thailand\",\"AMOUNT\":\"17.48 million\",\"DATE\":2009,\"GRAPH\":null,\"HISTORY\":null},{\"#\":null,\"COUNTRY\":\"South Asia average (profile)\",\"AMOUNT\":\"16.69 million\",\"DATE\":2009,\"GRAPH\":null,\"HISTORY\":null},{\"#\":\"24\",\"COUNTRY\":\"Taiwan\",\"AMOUNT\":\"16.15 million\",\"DATE\":2009,\"GRAPH\":null,\"HISTORY\":null},{\"#\":\"25\",\"COUNTRY\":\"Australia\",\"AMOUNT\":\"15.81 million\",\"DATE\":2009,\"GRAPH\":null,\"HISTORY\":null},{\"#\":\"26\",\"COUNTRY\":\"Malaysia\",\"AMOUNT\":\"15.36 million\",\"DATE\":2009,\"GRAPH\":null,\"HISTORY\":null},{\"#\":\"27\",\"COUNTRY\":\"Ukraine\",\"AMOUNT\":\"15.3 million\",\"DATE\":2010,\"GRAPH\":null,\"HISTORY\":null},{\"#\":\"28\",\"COUNTRY\":\"Netherlands\",\"AMOUNT\":\"14.87 million\",\"DATE\":2010,\"GRAPH\":null,\"HISTORY\":null},{\"#\":\"29\",\"COUNTRY\":\"Argentina\",\"AMOUNT\":\"13.69 million\",\"DATE\":2009,\"GRAPH\":null,\"HISTORY\":null},{\"#\":null,\"COUNTRY\":\"Religious countries average (profile)\",\"AMOUNT\":\"13.59 million\",\"DATE\":2009,\"GRAPH\":null,\"HISTORY\":null},{\"#\":\"30\",\"COUNTRY\":\"Morocco\",\"AMOUNT\":\"13.21 million\",\"DATE\":2009,\"GRAPH\":null,\"HISTORY\":null},{\"#\":null,\"COUNTRY\":\"Eurozone average (profile)\",\"AMOUNT\":\"12.48 million\",\"DATE\":2010,\"GRAPH\":null,\"HISTORY\":null},{\"#\":null,\"COUNTRY\":\"NATO countries average (profile)\",\"AMOUNT\":\"12.27 million\",\"DATE\":2010,\"GRAPH\":null,\"HISTORY\":null},{\"#\":null,\"COUNTRY\":\"European Union average (profile)\",\"AMOUNT\":\"10.69 million\",\"DATE\":2010,\"GRAPH\":null,\"HISTORY\":null},{\"#\":null,\"COUNTRY\":\"Former British colonies average (profile)\",\"AMOUNT\":\"10.17 million\",\"DATE\":2009,\"GRAPH\":null,\"HISTORY\":null},{\"#\":\"31\",\"COUNTRY\":\"Saudi Arabia\",\"AMOUNT\":\"9.77 million\",\"DATE\":2009,\"GRAPH\":null,\"HISTORY\":null},{\"#\":null,\"COUNTRY\":\"Europe average (profile)\",\"AMOUNT\":\"9.61 million\",\"DATE\":2010,\"GRAPH\":null,\"HISTORY\":null},{\"#\":null,\"COUNTRY\":\"Catholic countries average (profile)\",\"AMOUNT\":\"9.37 million\",\"DATE\":2009,\"GRAPH\":null,\"HISTORY\":null},{\"#\":\"32\",\"COUNTRY\":\"Peru\",\"AMOUNT\":\"9.16 million\",\"DATE\":2009,\"GRAPH\":null,\"HISTORY\":null},{\"#\":\"33\",\"COUNTRY\":\"Venezuela\",\"AMOUNT\":\"8.92 million\",\"DATE\":2009,\"GRAPH\":null,\"HISTORY\":null},{\"#\":null,\"COUNTRY\":\"Eastern Europe average (profile)\",\"AMOUNT\":\"8.4 million\",\"DATE\":2010,\"GRAPH\":null,\"HISTORY\":null},{\"#\":\"34\",\"COUNTRY\":\"Sweden\",\"AMOUNT\":\"8.4 million\",\"DATE\":2010,\"GRAPH\":null,\"HISTORY\":null},{\"#\":\"35\",\"COUNTRY\":\"Philippines\",\"AMOUNT\":\"8.28 million\",\"DATE\":2009,\"GRAPH\":null,\"HISTORY\":null},{\"#\":null,\"COUNTRY\":\"Christian countries average (profile)\",\"AMOUNT\":\"8.26 million\",\"DATE\":2009,\"GRAPH\":null,\"HISTORY\":null},{\"#\":\"36\",\"COUNTRY\":\"Iran\",\"AMOUNT\":\"8.21 million\",\"DATE\":2009,\"GRAPH\":null,\"HISTORY\":null},{\"#\":\"37\",\"COUNTRY\":\"Belgium\",\"AMOUNT\":\"8.11 million\",\"DATE\":2010,\"GRAPH\":null,\"HISTORY\":null},{\"#\":\"38\",\"COUNTRY\":\"Romania\",\"AMOUNT\":\"7.79 million\",\"DATE\":2010,\"GRAPH\":null,\"HISTORY\":null},{\"#\":null,\"COUNTRY\":\"South and Central Asia average (profile)\",\"AMOUNT\":\"7.6 million\",\"DATE\":2009,\"GRAPH\":null,\"HISTORY\":null},{\"#\":null,\"COUNTRY\":\"OPEC countries average (profile)\",\"AMOUNT\":\"7.45 million\",\"DATE\":2009,\"GRAPH\":null,\"HISTORY\":null},{\"#\":\"39\",\"COUNTRY\":\"Chile\",\"AMOUNT\":\"7.01 million\",\"DATE\":2009,\"GRAPH\":null,\"HISTORY\":null},{\"#\":\"40\",\"COUNTRY\":\"Czech Republic\",\"AMOUNT\":\"6.68 million\",\"DATE\":2010,\"GRAPH\":null,\"HISTORY\":null},{\"#\":\"41\",\"COUNTRY\":\"Hungary\",\"AMOUNT\":\"6.18 million\",\"DATE\":2010,\"GRAPH\":null,\"HISTORY\":null},{\"#\":\"42\",\"COUNTRY\":\"Austria\",\"AMOUNT\":\"6.14 million\",\"DATE\":2010,\"GRAPH\":null,\"HISTORY\":null},{\"#\":null,\"COUNTRY\":\"Former Spanish colonies average (profile)\",\"AMOUNT\":\"6.14 million\",\"DATE\":2009,\"GRAPH\":null,\"HISTORY\":null},{\"#\":\"43\",\"COUNTRY\":\"Switzerland\",\"AMOUNT\":\"5.74 million\",\"DATE\":2010,\"GRAPH\":null,\"HISTORY\":null},{\"#\":null,\"COUNTRY\":\"Latin America and Caribbean average (profile)\",\"AMOUNT\":\"5.71 million\",\"DATE\":2009,\"GRAPH\":null,\"HISTORY\":null},{\"#\":null,\"COUNTRY\":\"failed states average (profile)\",\"AMOUNT\":\"5.53 million\",\"DATE\":2009,\"GRAPH\":null,\"HISTORY\":null},{\"#\":\"44\",\"COUNTRY\":\"Kazakhstan\",\"AMOUNT\":\"5.3 million\",\"DATE\":2010,\"GRAPH\":null,\"HISTORY\":null},{\"#\":\"45\",\"COUNTRY\":\"Portugal\",\"AMOUNT\":\"5.17 million\",\"DATE\":2010,\"GRAPH\":null,\"HISTORY\":null},{\"#\":null,\"COUNTRY\":\"Potential Future EU Members average (profile)\",\"AMOUNT\":\"5.1 million\",\"DATE\":2009,\"GRAPH\":null,\"HISTORY\":null},{\"#\":null,\"COUNTRY\":\"Muslim countries average (profile)\",\"AMOUNT\":\"5.01 million\",\"DATE\":2009,\"GRAPH\":null,\"HISTORY\":null},{\"#\":\"46\",\"COUNTRY\":\"Greece\",\"AMOUNT\":\"4.97 million\",\"DATE\":2010,\"GRAPH\":null,\"HISTORY\":null},{\"#\":null,\"COUNTRY\":\"Former Soviet republics average (profile)\",\"AMOUNT\":\"4.93 million\",\"DATE\":2009,\"GRAPH\":null,\"HISTORY\":null},{\"#\":\"47\",\"COUNTRY\":\"Hong Kong\",\"AMOUNT\":\"4.87 million\",\"DATE\":2009,\"GRAPH\":null,\"HISTORY\":null},{\"#\":\"48\",\"COUNTRY\":\"Denmark\",\"AMOUNT\":\"4.75 million\",\"DATE\":2010,\"GRAPH\":null,\"HISTORY\":null},{\"#\":\"49\",\"COUNTRY\":\"Algeria\",\"AMOUNT\":\"4.7 million\",\"DATE\":2009,\"GRAPH\":null,\"HISTORY\":null},{\"#\":\"50\",\"COUNTRY\":\"Uzbekistan\",\"AMOUNT\":\"4.69 million\",\"DATE\":2009,\"GRAPH\":null,\"HISTORY\":null},{\"#\":null,\"COUNTRY\":\"Hot countries average (profile)\",\"AMOUNT\":\"4.66 million\",\"DATE\":2009,\"GRAPH\":null,\"HISTORY\":null},{\"#\":\"51\",\"COUNTRY\":\"Israel\",\"AMOUNT\":\"4.53 million\",\"DATE\":2009,\"GRAPH\":null,\"HISTORY\":null},{\"#\":null,\"COUNTRY\":\"Middle Eastern and North Africa average (profile)\",\"AMOUNT\":\"4.51 million\",\"DATE\":2009,\"GRAPH\":null,\"HISTORY\":null},{\"#\":\"52\",\"COUNTRY\":\"Finland\",\"AMOUNT\":\"4.48 million\",\"DATE\":2010,\"GRAPH\":null,\"HISTORY\":null},{\"#\":\"53\",\"COUNTRY\":\"Syria\",\"AMOUNT\":\"4.47 million\",\"DATE\":2009,\"GRAPH\":null,\"HISTORY\":null},{\"#\":\"54\",\"COUNTRY\":\"Belarus\",\"AMOUNT\":\"4.44 million\",\"DATE\":2010,\"GRAPH\":null,\"HISTORY\":null},{\"#\":\"55\",\"COUNTRY\":\"Norway\",\"AMOUNT\":\"4.43 million\",\"DATE\":2010,\"GRAPH\":null,\"HISTORY\":null},{\"#\":\"56\",\"COUNTRY\":\"South Africa\",\"AMOUNT\":\"4.42 million\",\"DATE\":2009,\"GRAPH\":null,\"HISTORY\":null},{\"#\":\"57\",\"COUNTRY\":\"Sudan\",\"AMOUNT\":\"4.2 million\",\"DATE\":2008,\"GRAPH\":null,\"HISTORY\":null},{\"#\":\"58\",\"COUNTRY\":\"Serbia\",\"AMOUNT\":\"4.11 million\",\"DATE\":2009,\"GRAPH\":null,\"HISTORY\":null},{\"#\":\"59\",\"COUNTRY\":\"Slovakia\",\"AMOUNT\":\"4.06 million\",\"DATE\":2010,\"GRAPH\":null,\"HISTORY\":null},{\"#\":\"60\",\"COUNTRY\":\"Kenya\",\"AMOUNT\":\"4 million\",\"DATE\":2009,\"GRAPH\":null,\"HISTORY\":null},{\"#\":\"61\",\"COUNTRY\":\"Azerbaijan\",\"AMOUNT\":\"3.69 million\",\"DATE\":2010,\"GRAPH\":null,\"HISTORY\":null},{\"#\":\"62\",\"COUNTRY\":\"Tunisia\",\"AMOUNT\":\"3.5 million\",\"DATE\":2009,\"GRAPH\":null,\"HISTORY\":null},{\"#\":\"63\",\"COUNTRY\":\"United Arab Emirates\",\"AMOUNT\":\"3.45 million\",\"DATE\":2009,\"GRAPH\":null,\"HISTORY\":null},{\"#\":null,\"COUNTRY\":\"Tourist destinations average (profile)\",\"AMOUNT\":\"3.42 million\",\"DATE\":2009,\"GRAPH\":null,\"HISTORY\":null},{\"#\":\"64\",\"COUNTRY\":\"New Zealand\",\"AMOUNT\":\"3.4 million\",\"DATE\":2009,\"GRAPH\":null,\"HISTORY\":null},{\"#\":\"65\",\"COUNTRY\":\"Bulgaria\",\"AMOUNT\":\"3.4 million\",\"DATE\":2010,\"GRAPH\":null,\"HISTORY\":null},{\"#\":\"66\",\"COUNTRY\":\"Ecuador\",\"AMOUNT\":\"3.35 million\",\"DATE\":2009,\"GRAPH\":null,\"HISTORY\":null},{\"#\":\"67\",\"COUNTRY\":\"Singapore\",\"AMOUNT\":\"3.23 million\",\"DATE\":2009,\"GRAPH\":null,\"HISTORY\":null},{\"#\":\"68\",\"COUNTRY\":\"Uganda\",\"AMOUNT\":\"3.2 million\",\"DATE\":2009,\"GRAPH\":null,\"HISTORY\":null},{\"#\":\"69\",\"COUNTRY\":\"Ireland\",\"AMOUNT\":\"3.04 million\",\"DATE\":2010,\"GRAPH\":null,\"HISTORY\":null},{\"#\":\"70\",\"COUNTRY\":\"Dominican Republic\",\"AMOUNT\":\"2.7 million\",\"DATE\":2009,\"GRAPH\":null,\"HISTORY\":null},{\"#\":\"71\",\"COUNTRY\":\"Yemen\",\"AMOUNT\":\"2.35 million\",\"DATE\":2009,\"GRAPH\":null,\"HISTORY\":null},{\"#\":null,\"COUNTRY\":\"Former French colonies average (profile)\",\"AMOUNT\":\"2.31 million\",\"DATE\":2009,\"GRAPH\":null,\"HISTORY\":null},{\"#\":\"72\",\"COUNTRY\":\"Guatemala\",\"AMOUNT\":\"2.28 million\",\"DATE\":2009,\"GRAPH\":null,\"HISTORY\":null},{\"#\":\"73\",\"COUNTRY\":\"Croatia\",\"AMOUNT\":\"2.24 million\",\"DATE\":2010,\"GRAPH\":null,\"HISTORY\":null},{\"#\":\"74\",\"COUNTRY\":\"Kyrgyzstan\",\"AMOUNT\":\"2.19 million\",\"DATE\":2009,\"GRAPH\":null,\"HISTORY\":null},{\"#\":\"75\",\"COUNTRY\":\"Lithuania\",\"AMOUNT\":\"2.1 million\",\"DATE\":2010,\"GRAPH\":null,\"HISTORY\":null},{\"#\":\"76\",\"COUNTRY\":\"Senegal\",\"AMOUNT\":\"1.82 million\",\"DATE\":2009,\"GRAPH\":null,\"HISTORY\":null},{\"#\":\"77\",\"COUNTRY\":\"Sri Lanka\",\"AMOUNT\":\"1.78 million\",\"DATE\":2009,\"GRAPH\":null,\"HISTORY\":null},{\"#\":null,\"COUNTRY\":\"Landlocked countries average (profile)\",\"AMOUNT\":\"1.64 million\",\"DATE\":2009,\"GRAPH\":null,\"HISTORY\":null},{\"#\":\"78\",\"COUNTRY\":\"Jordan\",\"AMOUNT\":\"1.64 million\",\"DATE\":2009,\"GRAPH\":null,\"HISTORY\":null},{\"#\":null,\"COUNTRY\":\"Sub-Saharan Africa average (profile)\",\"AMOUNT\":\"1.62 million\",\"DATE\":2009,\"GRAPH\":null,\"HISTORY\":null},{\"#\":\"79\",\"COUNTRY\":\"Cuba\",\"AMOUNT\":\"1.61 million\",\"DATE\":2013,\"GRAPH\":null,\"HISTORY\":null},{\"#\":\"80\",\"COUNTRY\":\"Jamaica\",\"AMOUNT\":\"1.58 million\",\"DATE\":2009,\"GRAPH\":null,\"HISTORY\":null},{\"#\":\"81\",\"COUNTRY\":\"Latvia\",\"AMOUNT\":\"1.5 million\",\"DATE\":2010,\"GRAPH\":null,\"HISTORY\":null},{\"#\":\"82\",\"COUNTRY\":\"Costa Rica\",\"AMOUNT\":\"1.49 million\",\"DATE\":2009,\"GRAPH\":null,\"HISTORY\":null},{\"#\":\"83\",\"COUNTRY\":\"Oman\",\"AMOUNT\":\"1.47 million\",\"DATE\":2009,\"GRAPH\":null,\"HISTORY\":null},{\"#\":\"84\",\"COUNTRY\":\"Bosnia and Herzegovina\",\"AMOUNT\":\"1.44 million\",\"DATE\":2010,\"GRAPH\":null,\"HISTORY\":null},{\"#\":\"85\",\"COUNTRY\":\"Zimbabwe\",\"AMOUNT\":\"1.42 million\",\"DATE\":2009,\"GRAPH\":null,\"HISTORY\":null},{\"#\":\"86\",\"COUNTRY\":\"Uruguay\",\"AMOUNT\":\"1.41 million\",\"DATE\":2009,\"GRAPH\":null,\"HISTORY\":null},{\"#\":\"=87\",\"COUNTRY\":\"Gaza Strip\",\"AMOUNT\":\"1.38 million\",\"DATE\":2009,\"GRAPH\":null,\"HISTORY\":null},{\"#\":\"=87\",\"COUNTRY\":\"West Bank\",\"AMOUNT\":\"1.38 million\",\"DATE\":2009,\"GRAPH\":null,\"HISTORY\":null},{\"#\":\"=89\",\"COUNTRY\":\"Georgia\",\"AMOUNT\":\"1.3 million\",\"DATE\":2010,\"GRAPH\":null,\"HISTORY\":null},{\"#\":\"=89\",\"COUNTRY\":\"Albania\",\"AMOUNT\":\"1.3 million\",\"DATE\":2010,\"GRAPH\":null,\"HISTORY\":null},{\"#\":\"91\",\"COUNTRY\":\"Slovenia\",\"AMOUNT\":\"1.3 million\",\"DATE\":2010,\"GRAPH\":null,\"HISTORY\":null},{\"#\":\"92\",\"COUNTRY\":\"Ghana\",\"AMOUNT\":\"1.3 million\",\"DATE\":2009,\"GRAPH\":null,\"HISTORY\":null},{\"#\":\"93\",\"COUNTRY\":\"Moldova\",\"AMOUNT\":\"1.29 million\",\"DATE\":2010,\"GRAPH\":null,\"HISTORY\":null},{\"#\":\"94\",\"COUNTRY\":\"Paraguay\",\"AMOUNT\":\"1.1 million\",\"DATE\":2009,\"GRAPH\":null,\"HISTORY\":null},{\"#\":\"95\",\"COUNTRY\":\"Bolivia\",\"AMOUNT\":\"1.1 million\",\"DATE\":2009,\"GRAPH\":null,\"HISTORY\":null},{\"#\":\"96\",\"COUNTRY\":\"Kuwait\",\"AMOUNT\":\"1.1 million\",\"DATE\":2009,\"GRAPH\":null,\"HISTORY\":null},{\"#\":\"97\",\"COUNTRY\":\"Republic of Macedonia\",\"AMOUNT\":\"1.06 million\",\"DATE\":2009,\"GRAPH\":null,\"HISTORY\":null},{\"#\":\"=98\",\"COUNTRY\":\"Afghanistan\",\"AMOUNT\":\"1000000\",\"DATE\":2009,\"GRAPH\":null,\"HISTORY\":null},{\"#\":\"=98\",\"COUNTRY\":\"Lebanon\",\"AMOUNT\":\"1000000\",\"DATE\":2009,\"GRAPH\":null,\"HISTORY\":null},{\"#\":\"=98\",\"COUNTRY\":\"Puerto Rico\",\"AMOUNT\":\"1000000\",\"DATE\":2009,\"GRAPH\":null,\"HISTORY\":null},{\"#\":\"=98\",\"COUNTRY\":\"Haiti\",\"AMOUNT\":\"1000000\",\"DATE\":2009,\"GRAPH\":null,\"HISTORY\":null},{\"#\":\"102\",\"COUNTRY\":\"Estonia\",\"AMOUNT\":\"969700\",\"DATE\":2010,\"GRAPH\":null,\"HISTORY\":null},{\"#\":\"103\",\"COUNTRY\":\"Cote d'Ivoire\",\"AMOUNT\":\"967300\",\"DATE\":2009,\"GRAPH\":null,\"HISTORY\":null},{\"#\":\"104\",\"COUNTRY\":\"Panama\",\"AMOUNT\":\"959800\",\"DATE\":2009,\"GRAPH\":null,\"HISTORY\":null},{\"#\":\"105\",\"COUNTRY\":\"Zambia\",\"AMOUNT\":\"816200\",\"DATE\":2009,\"GRAPH\":null,\"HISTORY\":null},{\"#\":\"106\",\"COUNTRY\":\"Cameroon\",\"AMOUNT\":\"749600\",\"DATE\":2009,\"GRAPH\":null,\"HISTORY\":null},{\"#\":\"107\",\"COUNTRY\":\"El Salvador\",\"AMOUNT\":\"746000\",\"DATE\":2009,\"GRAPH\":null,\"HISTORY\":null},{\"#\":\"108\",\"COUNTRY\":\"Honduras\",\"AMOUNT\":\"731700\",\"DATE\":2009,\"GRAPH\":null,\"HISTORY\":null},{\"#\":\"109\",\"COUNTRY\":\"Malawi\",\"AMOUNT\":\"716400\",\"DATE\":2009,\"GRAPH\":null,\"HISTORY\":null},{\"#\":\"110\",\"COUNTRY\":\"Tajikistan\",\"AMOUNT\":\"700000\",\"DATE\":2009,\"GRAPH\":null,\"HISTORY\":null},{\"#\":\"111\",\"COUNTRY\":\"Tanzania\",\"AMOUNT\":\"678000\",\"DATE\":2009,\"GRAPH\":null,\"HISTORY\":null},{\"#\":\"112\",\"COUNTRY\":\"Bangladesh\",\"AMOUNT\":\"617300\",\"DATE\":2009,\"GRAPH\":null,\"HISTORY\":null},{\"#\":\"113\",\"COUNTRY\":\"Mozambique\",\"AMOUNT\":\"613600\",\"DATE\":2009,\"GRAPH\":null,\"HISTORY\":null},{\"#\":\"114\",\"COUNTRY\":\"Angola\",\"AMOUNT\":\"606700\",\"DATE\":2009,\"GRAPH\":null,\"HISTORY\":null},{\"#\":\"115\",\"COUNTRY\":\"Trinidad and Tobago\",\"AMOUNT\":\"593000\",\"DATE\":2009,\"GRAPH\":null,\"HISTORY\":null},{\"#\":\"116\",\"COUNTRY\":\"Nepal\",\"AMOUNT\":\"577800\",\"DATE\":2009,\"GRAPH\":null,\"HISTORY\":null},{\"#\":\"117\",\"COUNTRY\":\"Qatar\",\"AMOUNT\":\"563800\",\"DATE\":2009,\"GRAPH\":null,\"HISTORY\":null},{\"#\":\"118\",\"COUNTRY\":\"Rwanda\",\"AMOUNT\":\"450000\",\"DATE\":2009,\"GRAPH\":null,\"HISTORY\":null},{\"#\":\"119\",\"COUNTRY\":\"Ethiopia\",\"AMOUNT\":\"447300\",\"DATE\":2009,\"GRAPH\":null,\"HISTORY\":null},{\"#\":\"120\",\"COUNTRY\":\"Cyprus\",\"AMOUNT\":\"433800\",\"DATE\":2010,\"GRAPH\":null,\"HISTORY\":null},{\"#\":\"121\",\"COUNTRY\":\"Luxembourg\",\"AMOUNT\":\"424500\",\"DATE\":2010,\"GRAPH\":null,\"HISTORY\":null},{\"#\":\"122\",\"COUNTRY\":\"Bahrain\",\"AMOUNT\":\"419500\",\"DATE\":2009,\"GRAPH\":null,\"HISTORY\":null},{\"#\":\"123\",\"COUNTRY\":\"Togo\",\"AMOUNT\":\"356300\",\"DATE\":2009,\"GRAPH\":null,\"HISTORY\":null},{\"#\":\"124\",\"COUNTRY\":\"Libya\",\"AMOUNT\":\"353900\",\"DATE\":2009,\"GRAPH\":null,\"HISTORY\":null},{\"#\":\"125\",\"COUNTRY\":\"Mongolia\",\"AMOUNT\":\"330000\",\"DATE\":2008,\"GRAPH\":null,\"HISTORY\":null},{\"#\":\"126\",\"COUNTRY\":\"Iraq\",\"AMOUNT\":\"325900\",\"DATE\":2009,\"GRAPH\":null,\"HISTORY\":null},{\"#\":\"127\",\"COUNTRY\":\"Madagascar\",\"AMOUNT\":\"319900\",\"DATE\":2009,\"GRAPH\":null,\"HISTORY\":null},{\"#\":\"128\",\"COUNTRY\":\"Brunei\",\"AMOUNT\":\"314900\",\"DATE\":2009,\"GRAPH\":null,\"HISTORY\":null},{\"#\":\"129\",\"COUNTRY\":\"Iceland\",\"AMOUNT\":\"301600\",\"DATE\":2010,\"GRAPH\":null,\"HISTORY\":null},{\"#\":\"130\",\"COUNTRY\":\"Laos\",\"AMOUNT\":\"300000\",\"DATE\":2009,\"GRAPH\":null,\"HISTORY\":null},{\"#\":\"=131\",\"COUNTRY\":\"Mauritius\",\"AMOUNT\":\"290000\",\"DATE\":2009,\"GRAPH\":null,\"HISTORY\":null},{\"#\":\"=131\",\"COUNTRY\":\"Democratic Republic of the Congo\",\"AMOUNT\":\"290000\",\"DATE\":2008,\"GRAPH\":null,\"HISTORY\":null},{\"#\":\"133\",\"COUNTRY\":\"Montenegro\",\"AMOUNT\":\"280000\",\"DATE\":2009,\"GRAPH\":null,\"HISTORY\":null},{\"#\":\"134\",\"COUNTRY\":\"Macau\",\"AMOUNT\":\"270200\",\"DATE\":2009,\"GRAPH\":null,\"HISTORY\":null},{\"#\":\"135\",\"COUNTRY\":\"Mali\",\"AMOUNT\":\"249800\",\"DATE\":2009,\"GRAPH\":null,\"HISTORY\":null},{\"#\":\"136\",\"COUNTRY\":\"Congo, Republic of the\",\"AMOUNT\":\"245200\",\"DATE\":2009,\"GRAPH\":null,\"HISTORY\":null},{\"#\":\"137\",\"COUNTRY\":\"Malta\",\"AMOUNT\":\"240600\",\"DATE\":2010,\"GRAPH\":null,\"HISTORY\":null},{\"#\":\"138\",\"COUNTRY\":\"Armenia\",\"AMOUNT\":\"208200\",\"DATE\":2010,\"GRAPH\":null,\"HISTORY\":null},{\"#\":\"139\",\"COUNTRY\":\"Benin\",\"AMOUNT\":\"200100\",\"DATE\":2009,\"GRAPH\":null,\"HISTORY\":null},{\"#\":\"140\",\"COUNTRY\":\"Eritrea\",\"AMOUNT\":\"200000\",\"DATE\":2008,\"GRAPH\":null,\"HISTORY\":null},{\"#\":\"141\",\"COUNTRY\":\"Nicaragua\",\"AMOUNT\":\"199800\",\"DATE\":2009,\"GRAPH\":null,\"HISTORY\":null},{\"#\":\"142\",\"COUNTRY\":\"Guyana\",\"AMOUNT\":\"189600\",\"DATE\":2009,\"GRAPH\":null,\"HISTORY\":null},{\"#\":\"143\",\"COUNTRY\":\"Barbados\",\"AMOUNT\":\"188000\",\"DATE\":2008,\"GRAPH\":null,\"HISTORY\":null},{\"#\":\"144\",\"COUNTRY\":\"Burkina Faso\",\"AMOUNT\":\"178100\",\"DATE\":2009,\"GRAPH\":null,\"HISTORY\":null},{\"#\":\"145\",\"COUNTRY\":\"Chad\",\"AMOUNT\":\"168100\",\"DATE\":2009,\"GRAPH\":null,\"HISTORY\":null},{\"#\":\"146\",\"COUNTRY\":\"Suriname\",\"AMOUNT\":\"163000\",\"DATE\":2009,\"GRAPH\":null,\"HISTORY\":null},{\"#\":\"147\",\"COUNTRY\":\"Burundi\",\"AMOUNT\":\"157800\",\"DATE\":2009,\"GRAPH\":null,\"HISTORY\":null},{\"#\":\"148\",\"COUNTRY\":\"Cape Verde\",\"AMOUNT\":\"150000\",\"DATE\":2009,\"GRAPH\":null,\"HISTORY\":null},{\"#\":\"149\",\"COUNTRY\":\"Saint Lucia\",\"AMOUNT\":\"142900\",\"DATE\":2009,\"GRAPH\":null,\"HISTORY\":null},{\"#\":\"150\",\"COUNTRY\":\"The Gambia\",\"AMOUNT\":\"130100\",\"DATE\":2009,\"GRAPH\":null,\"HISTORY\":null},{\"#\":\"151\",\"COUNTRY\":\"Namibia\",\"AMOUNT\":\"127500\",\"DATE\":2009,\"GRAPH\":null,\"HISTORY\":null},{\"#\":\"152\",\"COUNTRY\":\"Papua New Guinea\",\"AMOUNT\":\"125000\",\"DATE\":2009,\"GRAPH\":null,\"HISTORY\":null},{\"#\":\"=153\",\"COUNTRY\":\"Botswana\",\"AMOUNT\":\"120000\",\"DATE\":2009,\"GRAPH\":null,\"HISTORY\":null},{\"#\":\"=153\",\"COUNTRY\":\"French Polynesia\",\"AMOUNT\":\"120000\",\"DATE\":2009,\"GRAPH\":null,\"HISTORY\":null},{\"#\":\"155\",\"COUNTRY\":\"Niger\",\"AMOUNT\":\"115900\",\"DATE\":2009,\"GRAPH\":null,\"HISTORY\":null},{\"#\":\"156\",\"COUNTRY\":\"The Bahamas\",\"AMOUNT\":\"115800\",\"DATE\":2009,\"GRAPH\":null,\"HISTORY\":null},{\"#\":\"157\",\"COUNTRY\":\"Fiji\",\"AMOUNT\":\"114200\",\"DATE\":2009,\"GRAPH\":null,\"HISTORY\":null},{\"#\":\"158\",\"COUNTRY\":\"Burma\",\"AMOUNT\":\"110000\",\"DATE\":2009,\"GRAPH\":null,\"HISTORY\":null},{\"#\":\"159\",\"COUNTRY\":\"Somalia\",\"AMOUNT\":\"106000\",\"DATE\":2009,\"GRAPH\":null,\"HISTORY\":null},{\"#\":\"160\",\"COUNTRY\":\"Gabon\",\"AMOUNT\":\"98800\",\"DATE\":2009,\"GRAPH\":null,\"HISTORY\":null},{\"#\":\"161\",\"COUNTRY\":\"Guinea\",\"AMOUNT\":\"95000\",\"DATE\":2009,\"GRAPH\":null,\"HISTORY\":null},{\"#\":\"162\",\"COUNTRY\":\"Swaziland\",\"AMOUNT\":\"90100\",\"DATE\":2009,\"GRAPH\":null,\"HISTORY\":null},{\"#\":\"163\",\"COUNTRY\":\"Guam\",\"AMOUNT\":\"90000\",\"DATE\":2009,\"GRAPH\":null,\"HISTORY\":null},{\"#\":\"164\",\"COUNTRY\":\"Maldives\",\"AMOUNT\":\"86400\",\"DATE\":2009,\"GRAPH\":null,\"HISTORY\":null},{\"#\":\"165\",\"COUNTRY\":\"New Caledonia\",\"AMOUNT\":\"85000\",\"DATE\":2009,\"GRAPH\":null,\"HISTORY\":null},{\"#\":\"166\",\"COUNTRY\":\"Turkmenistan\",\"AMOUNT\":\"80400\",\"DATE\":2009,\"GRAPH\":null,\"HISTORY\":null},{\"#\":\"167\",\"COUNTRY\":\"Cambodia\",\"AMOUNT\":\"78500\",\"DATE\":2009,\"GRAPH\":null,\"HISTORY\":null},{\"#\":\"168\",\"COUNTRY\":\"Lesotho\",\"AMOUNT\":\"76800\",\"DATE\":2009,\"GRAPH\":null,\"HISTORY\":null},{\"#\":\"169\",\"COUNTRY\":\"Saint Vincent and the Grenadines\",\"AMOUNT\":\"76000\",\"DATE\":2009,\"GRAPH\":null,\"HISTORY\":null},{\"#\":\"170\",\"COUNTRY\":\"Mauritania\",\"AMOUNT\":\"75000\",\"DATE\":2009,\"GRAPH\":null,\"HISTORY\":null},{\"#\":\"171\",\"COUNTRY\":\"Andorra\",\"AMOUNT\":\"67200\",\"DATE\":2010,\"GRAPH\":null,\"HISTORY\":null},{\"#\":\"172\",\"COUNTRY\":\"Antigua and Barbuda\",\"AMOUNT\":\"65000\",\"DATE\":2009,\"GRAPH\":null,\"HISTORY\":null},{\"#\":\"173\",\"COUNTRY\":\"Bermuda\",\"AMOUNT\":\"54000\",\"DATE\":2009,\"GRAPH\":null,\"HISTORY\":null},{\"#\":\"174\",\"COUNTRY\":\"Bhutan\",\"AMOUNT\":\"50000\",\"DATE\":2009,\"GRAPH\":null,\"HISTORY\":null},{\"#\":\"175\",\"COUNTRY\":\"Guernsey\",\"AMOUNT\":\"48300\",\"DATE\":2009,\"GRAPH\":null,\"HISTORY\":null},{\"#\":\"176\",\"COUNTRY\":\"Faroe Islands\",\"AMOUNT\":\"37500\",\"DATE\":2009,\"GRAPH\":null,\"HISTORY\":null},{\"#\":\"177\",\"COUNTRY\":\"Guinea-Bissau\",\"AMOUNT\":\"37100\",\"DATE\":2009,\"GRAPH\":null,\"HISTORY\":null},{\"#\":\"=178\",\"COUNTRY\":\"Belize\",\"AMOUNT\":\"36000\",\"DATE\":2009,\"GRAPH\":null,\"HISTORY\":null},{\"#\":\"=178\",\"COUNTRY\":\"Greenland\",\"AMOUNT\":\"36000\",\"DATE\":2009,\"GRAPH\":null,\"HISTORY\":null},{\"#\":\"180\",\"COUNTRY\":\"Seychelles\",\"AMOUNT\":\"32000\",\"DATE\":2008,\"GRAPH\":null,\"HISTORY\":null},{\"#\":\"181\",\"COUNTRY\":\"Virgin Islands\",\"AMOUNT\":\"30000\",\"DATE\":2009,\"GRAPH\":null,\"HISTORY\":null},{\"#\":\"182\",\"COUNTRY\":\"Jersey\",\"AMOUNT\":\"29500\",\"DATE\":2009,\"GRAPH\":null,\"HISTORY\":null},{\"#\":\"183\",\"COUNTRY\":\"Dominica\",\"AMOUNT\":\"28000\",\"DATE\":2009,\"GRAPH\":null,\"HISTORY\":null},{\"#\":\"184\",\"COUNTRY\":\"Sao Tome and Principe\",\"AMOUNT\":\"26700\",\"DATE\":2009,\"GRAPH\":null,\"HISTORY\":null},{\"#\":\"185\",\"COUNTRY\":\"Djibouti\",\"AMOUNT\":\"25900\",\"DATE\":2009,\"GRAPH\":null,\"HISTORY\":null},{\"#\":\"186\",\"COUNTRY\":\"Grenada\",\"AMOUNT\":\"25000\",\"DATE\":2009,\"GRAPH\":null,\"HISTORY\":null},{\"#\":\"187\",\"COUNTRY\":\"Comoros\",\"AMOUNT\":\"24300\",\"DATE\":2009,\"GRAPH\":null,\"HISTORY\":null},{\"#\":\"188\",\"COUNTRY\":\"Aruba\",\"AMOUNT\":\"24000\",\"DATE\":2009,\"GRAPH\":null,\"HISTORY\":null},{\"#\":\"=189\",\"COUNTRY\":\"Liechtenstein\",\"AMOUNT\":\"23000\",\"DATE\":2010,\"GRAPH\":null,\"HISTORY\":null},{\"#\":\"=189\",\"COUNTRY\":\"Monaco\",\"AMOUNT\":\"23000\",\"DATE\":2010,\"GRAPH\":null,\"HISTORY\":null},{\"#\":\"=189\",\"COUNTRY\":\"Cayman Islands\",\"AMOUNT\":\"23000\",\"DATE\":2008,\"GRAPH\":null,\"HISTORY\":null},{\"#\":\"192\",\"COUNTRY\":\"Central African Republic\",\"AMOUNT\":\"22600\",\"DATE\":2009,\"GRAPH\":null,\"HISTORY\":null},{\"#\":\"193\",\"COUNTRY\":\"Gibraltar\",\"AMOUNT\":\"20200\",\"DATE\":2009,\"GRAPH\":null,\"HISTORY\":null},{\"#\":\"194\",\"COUNTRY\":\"Liberia\",\"AMOUNT\":\"20000\",\"DATE\":2009,\"GRAPH\":null,\"HISTORY\":null},{\"#\":\"=195\",\"COUNTRY\":\"San Marino\",\"AMOUNT\":\"17000\",\"DATE\":2010,\"GRAPH\":null,\"HISTORY\":null},{\"#\":\"=195\",\"COUNTRY\":\"Vanuatu\",\"AMOUNT\":\"17000\",\"DATE\":2009,\"GRAPH\":null,\"HISTORY\":null},{\"#\":\"=195\",\"COUNTRY\":\"Federated States of Micronesia\",\"AMOUNT\":\"17000\",\"DATE\":2009,\"GRAPH\":null,\"HISTORY\":null},{\"#\":\"=195\",\"COUNTRY\":\"Saint Kitts and Nevis\",\"AMOUNT\":\"17000\",\"DATE\":2009,\"GRAPH\":null,\"HISTORY\":null},{\"#\":\"199\",\"COUNTRY\":\"Sierra Leone\",\"AMOUNT\":\"14900\",\"DATE\":2009,\"GRAPH\":null,\"HISTORY\":null},{\"#\":\"200\",\"COUNTRY\":\"Equatorial Guinea\",\"AMOUNT\":\"14400\",\"DATE\":2009,\"GRAPH\":null,\"HISTORY\":null},{\"#\":\"201\",\"COUNTRY\":\"Solomon Islands\",\"AMOUNT\":\"10000\",\"DATE\":2009,\"GRAPH\":null,\"HISTORY\":null},{\"#\":\"202\",\"COUNTRY\":\"Samoa\",\"AMOUNT\":\"9000\",\"DATE\":2009,\"GRAPH\":null,\"HISTORY\":null},{\"#\":\"203\",\"COUNTRY\":\"Tonga\",\"AMOUNT\":\"8400\",\"DATE\":2009,\"GRAPH\":null,\"HISTORY\":null},{\"#\":\"204\",\"COUNTRY\":\"Kiribati\",\"AMOUNT\":\"7800\",\"DATE\":2009,\"GRAPH\":null,\"HISTORY\":null},{\"#\":\"205\",\"COUNTRY\":\"Cook Islands\",\"AMOUNT\":\"6000\",\"DATE\":2009,\"GRAPH\":null,\"HISTORY\":null},{\"#\":\"206\",\"COUNTRY\":\"Tuvalu\",\"AMOUNT\":\"4200\",\"DATE\":2008,\"GRAPH\":null,\"HISTORY\":null},{\"#\":\"207\",\"COUNTRY\":\"British Virgin Islands\",\"AMOUNT\":\"4000\",\"DATE\":2002,\"GRAPH\":null,\"HISTORY\":null},{\"#\":\"208\",\"COUNTRY\":\"Anguilla\",\"AMOUNT\":\"3700\",\"DATE\":2009,\"GRAPH\":null,\"HISTORY\":null},{\"#\":\"209\",\"COUNTRY\":\"Falkland Islands (Islas Malvinas)\",\"AMOUNT\":\"2900\",\"DATE\":2009,\"GRAPH\":null,\"HISTORY\":null},{\"#\":\"210\",\"COUNTRY\":\"Marshall Islands\",\"AMOUNT\":\"2200\",\"DATE\":2009,\"GRAPH\":null,\"HISTORY\":null},{\"#\":\"211\",\"COUNTRY\":\"East Timor\",\"AMOUNT\":\"2100\",\"DATE\":2009,\"GRAPH\":null,\"HISTORY\":null},{\"#\":\"212\",\"COUNTRY\":\"Wallis and Futuna\",\"AMOUNT\":\"1300\",\"DATE\":2009,\"GRAPH\":null,\"HISTORY\":null},{\"#\":\"213\",\"COUNTRY\":\"Montserrat\",\"AMOUNT\":\"1200\",\"DATE\":2009,\"GRAPH\":null,\"HISTORY\":null},{\"#\":\"214\",\"COUNTRY\":\"Niue\",\"AMOUNT\":\"1100\",\"DATE\":2009,\"GRAPH\":null,\"HISTORY\":null},{\"#\":\"=215\",\"COUNTRY\":\"Saint Helena, Ascension, and Tristan da Cunha\",\"AMOUNT\":\"900\",\"DATE\":2009,\"GRAPH\":null,\"HISTORY\":null},{\"#\":\"=215\",\"COUNTRY\":\"Saint Helena\",\"AMOUNT\":\"900\",\"DATE\":2009,\"GRAPH\":null,\"HISTORY\":null},{\"#\":\"217\",\"COUNTRY\":\"Tokelau\",\"AMOUNT\":\"800\",\"DATE\":2008,\"GRAPH\":null,\"HISTORY\":null},{\"#\":\"218\",\"COUNTRY\":\"Christmas Island\",\"AMOUNT\":\"464\",\"DATE\":2001,\"GRAPH\":null,\"HISTORY\":null}]\n"
     ]
    }
   ],
   "source": []
  },
  {
   "cell_type": "code",
   "execution_count": 17,
   "metadata": {},
   "outputs": [
    {
     "data": {
      "text/plain": [
       "[        #                                        COUNTRY         AMOUNT  DATE  \\\n",
       " 0       1                                          China    389 million  2009   \n",
       " 1       2                                  United States    245 million  2009   \n",
       " 2       3                                          Japan  99.18 million  2009   \n",
       " 3     NaN    Group of 7 countries (G7) average (profile)  80.32 million  2009   \n",
       " 4       4                                         Brazil  75.98 million  2009   \n",
       " ..    ...                                            ...            ...   ...   \n",
       " 244   214                                           Niue           1100  2009   \n",
       " 245  =215  Saint Helena, Ascension, and Tristan da Cunha            900  2009   \n",
       " 246  =215                                   Saint Helena            900  2009   \n",
       " 247   217                                        Tokelau            800  2008   \n",
       " 248   218                               Christmas Island            464  2001   \n",
       " \n",
       "      GRAPH  HISTORY  \n",
       " 0      NaN      NaN  \n",
       " 1      NaN      NaN  \n",
       " 2      NaN      NaN  \n",
       " 3      NaN      NaN  \n",
       " 4      NaN      NaN  \n",
       " ..     ...      ...  \n",
       " 244    NaN      NaN  \n",
       " 245    NaN      NaN  \n",
       " 246    NaN      NaN  \n",
       " 247    NaN      NaN  \n",
       " 248    NaN      NaN  \n",
       " \n",
       " [249 rows x 6 columns]]"
      ]
     },
     "execution_count": 17,
     "metadata": {},
     "output_type": "execute_result"
    }
   ],
   "source": [
    "df"
   ]
  },
  {
   "cell_type": "code",
   "execution_count": null,
   "metadata": {},
   "outputs": [],
   "source": []
  }
 ],
 "metadata": {
  "kernelspec": {
   "display_name": "Python 3",
   "language": "python",
   "name": "python3"
  },
  "language_info": {
   "codemirror_mode": {
    "name": "ipython",
    "version": 3
   },
   "file_extension": ".py",
   "mimetype": "text/x-python",
   "name": "python",
   "nbconvert_exporter": "python",
   "pygments_lexer": "ipython3",
   "version": "3.6.10"
  }
 },
 "nbformat": 4,
 "nbformat_minor": 4
}
